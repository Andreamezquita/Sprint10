{
 "cells": [
  {
   "cell_type": "markdown",
   "metadata": {
    "slideshow": {
     "slide_type": "-"
    }
   },
   "source": [
    "# **Test A/B para Optimización de Ingresos**"
   ]
  },
  {
   "cell_type": "markdown",
   "metadata": {},
   "source": [
    "## **Introducción**\n",
    "\n",
    "Este proyecto analiza hipótesis de crecimiento para una tienda online mediante frameworks de priorización (ICE/RICE) y validación experimental con test A/B."
   ]
  },
  {
   "cell_type": "markdown",
   "metadata": {},
   "source": [
    "## **Descripción de los Datos**\n",
    "\n",
    "### **Dataset 1: Priorización de Hipótesis** (`hypotheses_us.csv`)\n",
    "Contiene hipótesis de crecimiento evaluadas según criterios específicos:\n",
    "\n",
    "| Campo | Descripción |\n",
    "|-------|-------------|\n",
    "| `Hypotheses` | Descripción de cada hipótesis de optimización |\n",
    "| `Reach` | Alcance potencial de usuarios (escala 1-10) |\n",
    "| `Impact` | Impacto esperado en usuarios (escala 1-10) |\n",
    "| `Confidence` | Nivel de confianza en la hipótesis (escala 1-10) |\n",
    "| `Effort` | Recursos requeridos para implementar (escala 1-10, mayor valor = más recursos) |\n",
    "\n",
    "### **Dataset 2: Órdenes del Test A/B** (`orders_us.csv`)\n",
    "Registro de transacciones durante el experimento:\n",
    "\n",
    "| Campo | Descripción |\n",
    "|-------|-------------|\n",
    "| `transactionId` | Identificador único del pedido |\n",
    "| `visitorId` | Identificador único del usuario |\n",
    "| `date` | Fecha de la transacción |\n",
    "| `revenue` | Ingresos generados por el pedido |\n",
    "| `group` | Grupo experimental (A o B) |\n",
    "\n",
    "### **Dataset 3: Visitas del Test A/B** (`visits_us.csv`)\n",
    "Datos agregados de tráfico por grupo y fecha:\n",
    "\n",
    "| Campo | Descripción |\n",
    "|-------|-------------|\n",
    "| `date` | Fecha del registro |\n",
    "| `group` | Grupo experimental (A o B) |\n",
    "| `visits` | Número total de visitas |"
   ]
  },
  {
   "cell_type": "markdown",
   "metadata": {},
   "source": [
    "## **1. Configuración Inicial y Exploración de Datos**"
   ]
  },
  {
   "cell_type": "markdown",
   "metadata": {},
   "source": [
    "### **1.1 Importación de Librerías**"
   ]
  },
  {
   "cell_type": "code",
   "execution_count": 1,
   "metadata": {},
   "outputs": [],
   "source": [
    "# Importamos librerías\n",
    "import pandas as pd\n",
    "import matplotlib.pyplot as plt\n",
    "import seaborn as sns\n",
    "import numpy as np\n",
    "import plotly.express as px\n",
    "import scipy.stats as stats\n",
    "import datetime as dt"
   ]
  },
  {
   "cell_type": "markdown",
   "metadata": {},
   "source": [
    "### **1.2 Carga de Datasets**"
   ]
  },
  {
   "cell_type": "code",
   "execution_count": 2,
   "metadata": {},
   "outputs": [
    {
     "ename": "FileNotFoundError",
     "evalue": "[Errno 2] No such file or directory: '/datasets/hypotheses_us.csv'",
     "output_type": "error",
     "traceback": [
      "\u001b[1;31m---------------------------------------------------------------------------\u001b[0m",
      "\u001b[1;31mFileNotFoundError\u001b[0m                         Traceback (most recent call last)",
      "Cell \u001b[1;32mIn[2], line 2\u001b[0m\n\u001b[0;32m      1\u001b[0m \u001b[38;5;66;03m# Importamos los datos\u001b[39;00m\n\u001b[1;32m----> 2\u001b[0m hypothesis \u001b[38;5;241m=\u001b[39m \u001b[43mpd\u001b[49m\u001b[38;5;241;43m.\u001b[39;49m\u001b[43mread_csv\u001b[49m\u001b[43m(\u001b[49m\u001b[38;5;124;43m'\u001b[39;49m\u001b[38;5;124;43m/datasets/hypotheses_us.csv\u001b[39;49m\u001b[38;5;124;43m'\u001b[39;49m\u001b[43m,\u001b[49m\u001b[43m \u001b[49m\u001b[43msep\u001b[49m\u001b[38;5;241;43m=\u001b[39;49m\u001b[38;5;124;43m'\u001b[39;49m\u001b[38;5;124;43m;\u001b[39;49m\u001b[38;5;124;43m'\u001b[39;49m\u001b[43m,\u001b[49m\u001b[43mheader\u001b[49m\u001b[38;5;241;43m=\u001b[39;49m\u001b[38;5;124;43m'\u001b[39;49m\u001b[38;5;124;43minfer\u001b[39;49m\u001b[38;5;124;43m'\u001b[39;49m\u001b[43m)\u001b[49m\n\u001b[0;32m      3\u001b[0m orders \u001b[38;5;241m=\u001b[39m pd\u001b[38;5;241m.\u001b[39mread_csv(\u001b[38;5;124m'\u001b[39m\u001b[38;5;124m/datasets/orders_us.csv\u001b[39m\u001b[38;5;124m'\u001b[39m, sep\u001b[38;5;241m=\u001b[39m\u001b[38;5;124m'\u001b[39m\u001b[38;5;124m,\u001b[39m\u001b[38;5;124m'\u001b[39m, header\u001b[38;5;241m=\u001b[39m\u001b[38;5;124m'\u001b[39m\u001b[38;5;124minfer\u001b[39m\u001b[38;5;124m'\u001b[39m)\n\u001b[0;32m      4\u001b[0m visits \u001b[38;5;241m=\u001b[39m pd\u001b[38;5;241m.\u001b[39mread_csv(\u001b[38;5;124m'\u001b[39m\u001b[38;5;124m/datasets/visits_us.csv\u001b[39m\u001b[38;5;124m'\u001b[39m, sep\u001b[38;5;241m=\u001b[39m\u001b[38;5;124m'\u001b[39m\u001b[38;5;124m,\u001b[39m\u001b[38;5;124m'\u001b[39m, header\u001b[38;5;241m=\u001b[39m\u001b[38;5;124m'\u001b[39m\u001b[38;5;124minfer\u001b[39m\u001b[38;5;124m'\u001b[39m)\n",
      "File \u001b[1;32mc:\\Users\\Andrea\\OneDrive - Universidad Autonoma de Nuevo León\\Desktop\\VSCode\\entorno-virtual\\Lib\\site-packages\\pandas\\io\\parsers\\readers.py:1026\u001b[0m, in \u001b[0;36mread_csv\u001b[1;34m(filepath_or_buffer, sep, delimiter, header, names, index_col, usecols, dtype, engine, converters, true_values, false_values, skipinitialspace, skiprows, skipfooter, nrows, na_values, keep_default_na, na_filter, verbose, skip_blank_lines, parse_dates, infer_datetime_format, keep_date_col, date_parser, date_format, dayfirst, cache_dates, iterator, chunksize, compression, thousands, decimal, lineterminator, quotechar, quoting, doublequote, escapechar, comment, encoding, encoding_errors, dialect, on_bad_lines, delim_whitespace, low_memory, memory_map, float_precision, storage_options, dtype_backend)\u001b[0m\n\u001b[0;32m   1013\u001b[0m kwds_defaults \u001b[38;5;241m=\u001b[39m _refine_defaults_read(\n\u001b[0;32m   1014\u001b[0m     dialect,\n\u001b[0;32m   1015\u001b[0m     delimiter,\n\u001b[1;32m   (...)\u001b[0m\n\u001b[0;32m   1022\u001b[0m     dtype_backend\u001b[38;5;241m=\u001b[39mdtype_backend,\n\u001b[0;32m   1023\u001b[0m )\n\u001b[0;32m   1024\u001b[0m kwds\u001b[38;5;241m.\u001b[39mupdate(kwds_defaults)\n\u001b[1;32m-> 1026\u001b[0m \u001b[38;5;28;01mreturn\u001b[39;00m \u001b[43m_read\u001b[49m\u001b[43m(\u001b[49m\u001b[43mfilepath_or_buffer\u001b[49m\u001b[43m,\u001b[49m\u001b[43m \u001b[49m\u001b[43mkwds\u001b[49m\u001b[43m)\u001b[49m\n",
      "File \u001b[1;32mc:\\Users\\Andrea\\OneDrive - Universidad Autonoma de Nuevo León\\Desktop\\VSCode\\entorno-virtual\\Lib\\site-packages\\pandas\\io\\parsers\\readers.py:620\u001b[0m, in \u001b[0;36m_read\u001b[1;34m(filepath_or_buffer, kwds)\u001b[0m\n\u001b[0;32m    617\u001b[0m _validate_names(kwds\u001b[38;5;241m.\u001b[39mget(\u001b[38;5;124m\"\u001b[39m\u001b[38;5;124mnames\u001b[39m\u001b[38;5;124m\"\u001b[39m, \u001b[38;5;28;01mNone\u001b[39;00m))\n\u001b[0;32m    619\u001b[0m \u001b[38;5;66;03m# Create the parser.\u001b[39;00m\n\u001b[1;32m--> 620\u001b[0m parser \u001b[38;5;241m=\u001b[39m \u001b[43mTextFileReader\u001b[49m\u001b[43m(\u001b[49m\u001b[43mfilepath_or_buffer\u001b[49m\u001b[43m,\u001b[49m\u001b[43m \u001b[49m\u001b[38;5;241;43m*\u001b[39;49m\u001b[38;5;241;43m*\u001b[39;49m\u001b[43mkwds\u001b[49m\u001b[43m)\u001b[49m\n\u001b[0;32m    622\u001b[0m \u001b[38;5;28;01mif\u001b[39;00m chunksize \u001b[38;5;129;01mor\u001b[39;00m iterator:\n\u001b[0;32m    623\u001b[0m     \u001b[38;5;28;01mreturn\u001b[39;00m parser\n",
      "File \u001b[1;32mc:\\Users\\Andrea\\OneDrive - Universidad Autonoma de Nuevo León\\Desktop\\VSCode\\entorno-virtual\\Lib\\site-packages\\pandas\\io\\parsers\\readers.py:1620\u001b[0m, in \u001b[0;36mTextFileReader.__init__\u001b[1;34m(self, f, engine, **kwds)\u001b[0m\n\u001b[0;32m   1617\u001b[0m     \u001b[38;5;28mself\u001b[39m\u001b[38;5;241m.\u001b[39moptions[\u001b[38;5;124m\"\u001b[39m\u001b[38;5;124mhas_index_names\u001b[39m\u001b[38;5;124m\"\u001b[39m] \u001b[38;5;241m=\u001b[39m kwds[\u001b[38;5;124m\"\u001b[39m\u001b[38;5;124mhas_index_names\u001b[39m\u001b[38;5;124m\"\u001b[39m]\n\u001b[0;32m   1619\u001b[0m \u001b[38;5;28mself\u001b[39m\u001b[38;5;241m.\u001b[39mhandles: IOHandles \u001b[38;5;241m|\u001b[39m \u001b[38;5;28;01mNone\u001b[39;00m \u001b[38;5;241m=\u001b[39m \u001b[38;5;28;01mNone\u001b[39;00m\n\u001b[1;32m-> 1620\u001b[0m \u001b[38;5;28mself\u001b[39m\u001b[38;5;241m.\u001b[39m_engine \u001b[38;5;241m=\u001b[39m \u001b[38;5;28;43mself\u001b[39;49m\u001b[38;5;241;43m.\u001b[39;49m\u001b[43m_make_engine\u001b[49m\u001b[43m(\u001b[49m\u001b[43mf\u001b[49m\u001b[43m,\u001b[49m\u001b[43m \u001b[49m\u001b[38;5;28;43mself\u001b[39;49m\u001b[38;5;241;43m.\u001b[39;49m\u001b[43mengine\u001b[49m\u001b[43m)\u001b[49m\n",
      "File \u001b[1;32mc:\\Users\\Andrea\\OneDrive - Universidad Autonoma de Nuevo León\\Desktop\\VSCode\\entorno-virtual\\Lib\\site-packages\\pandas\\io\\parsers\\readers.py:1880\u001b[0m, in \u001b[0;36mTextFileReader._make_engine\u001b[1;34m(self, f, engine)\u001b[0m\n\u001b[0;32m   1878\u001b[0m     \u001b[38;5;28;01mif\u001b[39;00m \u001b[38;5;124m\"\u001b[39m\u001b[38;5;124mb\u001b[39m\u001b[38;5;124m\"\u001b[39m \u001b[38;5;129;01mnot\u001b[39;00m \u001b[38;5;129;01min\u001b[39;00m mode:\n\u001b[0;32m   1879\u001b[0m         mode \u001b[38;5;241m+\u001b[39m\u001b[38;5;241m=\u001b[39m \u001b[38;5;124m\"\u001b[39m\u001b[38;5;124mb\u001b[39m\u001b[38;5;124m\"\u001b[39m\n\u001b[1;32m-> 1880\u001b[0m \u001b[38;5;28mself\u001b[39m\u001b[38;5;241m.\u001b[39mhandles \u001b[38;5;241m=\u001b[39m \u001b[43mget_handle\u001b[49m\u001b[43m(\u001b[49m\n\u001b[0;32m   1881\u001b[0m \u001b[43m    \u001b[49m\u001b[43mf\u001b[49m\u001b[43m,\u001b[49m\n\u001b[0;32m   1882\u001b[0m \u001b[43m    \u001b[49m\u001b[43mmode\u001b[49m\u001b[43m,\u001b[49m\n\u001b[0;32m   1883\u001b[0m \u001b[43m    \u001b[49m\u001b[43mencoding\u001b[49m\u001b[38;5;241;43m=\u001b[39;49m\u001b[38;5;28;43mself\u001b[39;49m\u001b[38;5;241;43m.\u001b[39;49m\u001b[43moptions\u001b[49m\u001b[38;5;241;43m.\u001b[39;49m\u001b[43mget\u001b[49m\u001b[43m(\u001b[49m\u001b[38;5;124;43m\"\u001b[39;49m\u001b[38;5;124;43mencoding\u001b[39;49m\u001b[38;5;124;43m\"\u001b[39;49m\u001b[43m,\u001b[49m\u001b[43m \u001b[49m\u001b[38;5;28;43;01mNone\u001b[39;49;00m\u001b[43m)\u001b[49m\u001b[43m,\u001b[49m\n\u001b[0;32m   1884\u001b[0m \u001b[43m    \u001b[49m\u001b[43mcompression\u001b[49m\u001b[38;5;241;43m=\u001b[39;49m\u001b[38;5;28;43mself\u001b[39;49m\u001b[38;5;241;43m.\u001b[39;49m\u001b[43moptions\u001b[49m\u001b[38;5;241;43m.\u001b[39;49m\u001b[43mget\u001b[49m\u001b[43m(\u001b[49m\u001b[38;5;124;43m\"\u001b[39;49m\u001b[38;5;124;43mcompression\u001b[39;49m\u001b[38;5;124;43m\"\u001b[39;49m\u001b[43m,\u001b[49m\u001b[43m \u001b[49m\u001b[38;5;28;43;01mNone\u001b[39;49;00m\u001b[43m)\u001b[49m\u001b[43m,\u001b[49m\n\u001b[0;32m   1885\u001b[0m \u001b[43m    \u001b[49m\u001b[43mmemory_map\u001b[49m\u001b[38;5;241;43m=\u001b[39;49m\u001b[38;5;28;43mself\u001b[39;49m\u001b[38;5;241;43m.\u001b[39;49m\u001b[43moptions\u001b[49m\u001b[38;5;241;43m.\u001b[39;49m\u001b[43mget\u001b[49m\u001b[43m(\u001b[49m\u001b[38;5;124;43m\"\u001b[39;49m\u001b[38;5;124;43mmemory_map\u001b[39;49m\u001b[38;5;124;43m\"\u001b[39;49m\u001b[43m,\u001b[49m\u001b[43m \u001b[49m\u001b[38;5;28;43;01mFalse\u001b[39;49;00m\u001b[43m)\u001b[49m\u001b[43m,\u001b[49m\n\u001b[0;32m   1886\u001b[0m \u001b[43m    \u001b[49m\u001b[43mis_text\u001b[49m\u001b[38;5;241;43m=\u001b[39;49m\u001b[43mis_text\u001b[49m\u001b[43m,\u001b[49m\n\u001b[0;32m   1887\u001b[0m \u001b[43m    \u001b[49m\u001b[43merrors\u001b[49m\u001b[38;5;241;43m=\u001b[39;49m\u001b[38;5;28;43mself\u001b[39;49m\u001b[38;5;241;43m.\u001b[39;49m\u001b[43moptions\u001b[49m\u001b[38;5;241;43m.\u001b[39;49m\u001b[43mget\u001b[49m\u001b[43m(\u001b[49m\u001b[38;5;124;43m\"\u001b[39;49m\u001b[38;5;124;43mencoding_errors\u001b[39;49m\u001b[38;5;124;43m\"\u001b[39;49m\u001b[43m,\u001b[49m\u001b[43m \u001b[49m\u001b[38;5;124;43m\"\u001b[39;49m\u001b[38;5;124;43mstrict\u001b[39;49m\u001b[38;5;124;43m\"\u001b[39;49m\u001b[43m)\u001b[49m\u001b[43m,\u001b[49m\n\u001b[0;32m   1888\u001b[0m \u001b[43m    \u001b[49m\u001b[43mstorage_options\u001b[49m\u001b[38;5;241;43m=\u001b[39;49m\u001b[38;5;28;43mself\u001b[39;49m\u001b[38;5;241;43m.\u001b[39;49m\u001b[43moptions\u001b[49m\u001b[38;5;241;43m.\u001b[39;49m\u001b[43mget\u001b[49m\u001b[43m(\u001b[49m\u001b[38;5;124;43m\"\u001b[39;49m\u001b[38;5;124;43mstorage_options\u001b[39;49m\u001b[38;5;124;43m\"\u001b[39;49m\u001b[43m,\u001b[49m\u001b[43m \u001b[49m\u001b[38;5;28;43;01mNone\u001b[39;49;00m\u001b[43m)\u001b[49m\u001b[43m,\u001b[49m\n\u001b[0;32m   1889\u001b[0m \u001b[43m\u001b[49m\u001b[43m)\u001b[49m\n\u001b[0;32m   1890\u001b[0m \u001b[38;5;28;01massert\u001b[39;00m \u001b[38;5;28mself\u001b[39m\u001b[38;5;241m.\u001b[39mhandles \u001b[38;5;129;01mis\u001b[39;00m \u001b[38;5;129;01mnot\u001b[39;00m \u001b[38;5;28;01mNone\u001b[39;00m\n\u001b[0;32m   1891\u001b[0m f \u001b[38;5;241m=\u001b[39m \u001b[38;5;28mself\u001b[39m\u001b[38;5;241m.\u001b[39mhandles\u001b[38;5;241m.\u001b[39mhandle\n",
      "File \u001b[1;32mc:\\Users\\Andrea\\OneDrive - Universidad Autonoma de Nuevo León\\Desktop\\VSCode\\entorno-virtual\\Lib\\site-packages\\pandas\\io\\common.py:873\u001b[0m, in \u001b[0;36mget_handle\u001b[1;34m(path_or_buf, mode, encoding, compression, memory_map, is_text, errors, storage_options)\u001b[0m\n\u001b[0;32m    868\u001b[0m \u001b[38;5;28;01melif\u001b[39;00m \u001b[38;5;28misinstance\u001b[39m(handle, \u001b[38;5;28mstr\u001b[39m):\n\u001b[0;32m    869\u001b[0m     \u001b[38;5;66;03m# Check whether the filename is to be opened in binary mode.\u001b[39;00m\n\u001b[0;32m    870\u001b[0m     \u001b[38;5;66;03m# Binary mode does not support 'encoding' and 'newline'.\u001b[39;00m\n\u001b[0;32m    871\u001b[0m     \u001b[38;5;28;01mif\u001b[39;00m ioargs\u001b[38;5;241m.\u001b[39mencoding \u001b[38;5;129;01mand\u001b[39;00m \u001b[38;5;124m\"\u001b[39m\u001b[38;5;124mb\u001b[39m\u001b[38;5;124m\"\u001b[39m \u001b[38;5;129;01mnot\u001b[39;00m \u001b[38;5;129;01min\u001b[39;00m ioargs\u001b[38;5;241m.\u001b[39mmode:\n\u001b[0;32m    872\u001b[0m         \u001b[38;5;66;03m# Encoding\u001b[39;00m\n\u001b[1;32m--> 873\u001b[0m         handle \u001b[38;5;241m=\u001b[39m \u001b[38;5;28;43mopen\u001b[39;49m\u001b[43m(\u001b[49m\n\u001b[0;32m    874\u001b[0m \u001b[43m            \u001b[49m\u001b[43mhandle\u001b[49m\u001b[43m,\u001b[49m\n\u001b[0;32m    875\u001b[0m \u001b[43m            \u001b[49m\u001b[43mioargs\u001b[49m\u001b[38;5;241;43m.\u001b[39;49m\u001b[43mmode\u001b[49m\u001b[43m,\u001b[49m\n\u001b[0;32m    876\u001b[0m \u001b[43m            \u001b[49m\u001b[43mencoding\u001b[49m\u001b[38;5;241;43m=\u001b[39;49m\u001b[43mioargs\u001b[49m\u001b[38;5;241;43m.\u001b[39;49m\u001b[43mencoding\u001b[49m\u001b[43m,\u001b[49m\n\u001b[0;32m    877\u001b[0m \u001b[43m            \u001b[49m\u001b[43merrors\u001b[49m\u001b[38;5;241;43m=\u001b[39;49m\u001b[43merrors\u001b[49m\u001b[43m,\u001b[49m\n\u001b[0;32m    878\u001b[0m \u001b[43m            \u001b[49m\u001b[43mnewline\u001b[49m\u001b[38;5;241;43m=\u001b[39;49m\u001b[38;5;124;43m\"\u001b[39;49m\u001b[38;5;124;43m\"\u001b[39;49m\u001b[43m,\u001b[49m\n\u001b[0;32m    879\u001b[0m \u001b[43m        \u001b[49m\u001b[43m)\u001b[49m\n\u001b[0;32m    880\u001b[0m     \u001b[38;5;28;01melse\u001b[39;00m:\n\u001b[0;32m    881\u001b[0m         \u001b[38;5;66;03m# Binary mode\u001b[39;00m\n\u001b[0;32m    882\u001b[0m         handle \u001b[38;5;241m=\u001b[39m \u001b[38;5;28mopen\u001b[39m(handle, ioargs\u001b[38;5;241m.\u001b[39mmode)\n",
      "\u001b[1;31mFileNotFoundError\u001b[0m: [Errno 2] No such file or directory: '/datasets/hypotheses_us.csv'"
     ]
    }
   ],
   "source": [
    "# Importamos los datos\n",
    "hypothesis = pd.read_csv('/datasets/hypotheses_us.csv', sep=';',header='infer')\n",
    "orders = pd.read_csv('/datasets/orders_us.csv', sep=',', header='infer')\n",
    "visits = pd.read_csv('/datasets/visits_us.csv', sep=',', header='infer')"
   ]
  },
  {
   "cell_type": "markdown",
   "metadata": {},
   "source": [
    "### **1.3 Análisis Exploratorio Inicial**"
   ]
  },
  {
   "cell_type": "markdown",
   "metadata": {},
   "source": [
    "#### **Exploración del dataset `hypotheses`**"
   ]
  },
  {
   "cell_type": "code",
   "execution_count": null,
   "metadata": {},
   "outputs": [
    {
     "name": "stdout",
     "output_type": "stream",
     "text": [
      "                                          Hypothesis  Reach  Impact  \\\n",
      "0  Add two new channels for attracting traffic. T...      3      10   \n",
      "1  Launch your own delivery service. This will sh...      2       5   \n",
      "2  Add product recommendation blocks to the store...      8       3   \n",
      "3  Change the category structure. This will incre...      8       3   \n",
      "4  Change the background color on the main page. ...      3       1   \n",
      "\n",
      "   Confidence  Effort  \n",
      "0           8       6  \n",
      "1           4      10  \n",
      "2           7       3  \n",
      "3           3       8  \n",
      "4           1       1  \n",
      "\n",
      "<class 'pandas.core.frame.DataFrame'>\n",
      "RangeIndex: 9 entries, 0 to 8\n",
      "Data columns (total 5 columns):\n",
      " #   Column      Non-Null Count  Dtype \n",
      "---  ------      --------------  ----- \n",
      " 0   Hypothesis  9 non-null      object\n",
      " 1   Reach       9 non-null      int64 \n",
      " 2   Impact      9 non-null      int64 \n",
      " 3   Confidence  9 non-null      int64 \n",
      " 4   Effort      9 non-null      int64 \n",
      "dtypes: int64(4), object(1)\n",
      "memory usage: 488.0+ bytes\n",
      "None\n"
     ]
    }
   ],
   "source": [
    "# Primeras filas del dataset\n",
    "print(hypothesis.head())"
   ]
  },
  {
   "cell_type": "code",
   "execution_count": null,
   "metadata": {},
   "outputs": [],
   "source": [
    "# Información general del dataset\n",
    "print(hypothesis.info())"
   ]
  },
  {
   "cell_type": "code",
   "execution_count": null,
   "metadata": {},
   "outputs": [
    {
     "name": "stdout",
     "output_type": "stream",
     "text": [
      "0\n"
     ]
    }
   ],
   "source": [
    "# Estandarización de nombres de columnas\n",
    "hypothesis.columns = hypothesis.columns.str.lower()\n",
    "print(\"Columnas estandarizadas:\", list(hypothesis.columns))\n",
    "\n",
    "# Verificación de duplicados\n",
    "duplicates_count = hypothesis.duplicated().sum()\n",
    "print(f\"Número de filas duplicadas: {duplicates_count}\")"
   ]
  },
  {
   "cell_type": "markdown",
   "metadata": {},
   "source": [
    "#### **Exploración del dataset `orders`**"
   ]
  },
  {
   "cell_type": "code",
   "execution_count": null,
   "metadata": {
    "scrolled": true
   },
   "outputs": [
    {
     "name": "stdout",
     "output_type": "stream",
     "text": [
      "   transactionId   visitorId        date  revenue group\n",
      "0     3667963787  3312258926  2019-08-15     30.4     B\n",
      "1     2804400009  3642806036  2019-08-15     15.2     B\n",
      "2     2961555356  4069496402  2019-08-15     10.2     A\n",
      "3     3797467345  1196621759  2019-08-15    155.1     B\n",
      "4     2282983706  2322279887  2019-08-15     40.5     B\n",
      "\n",
      "<class 'pandas.core.frame.DataFrame'>\n",
      "RangeIndex: 1197 entries, 0 to 1196\n",
      "Data columns (total 5 columns):\n",
      " #   Column         Non-Null Count  Dtype  \n",
      "---  ------         --------------  -----  \n",
      " 0   transactionId  1197 non-null   int64  \n",
      " 1   visitorId      1197 non-null   int64  \n",
      " 2   date           1197 non-null   object \n",
      " 3   revenue        1197 non-null   float64\n",
      " 4   group          1197 non-null   object \n",
      "dtypes: float64(1), int64(2), object(2)\n",
      "memory usage: 46.9+ KB\n",
      "None\n"
     ]
    }
   ],
   "source": [
    "# Primeras filas del dataset\n",
    "print(orders.head())"
   ]
  },
  {
   "cell_type": "code",
   "execution_count": null,
   "metadata": {},
   "outputs": [],
   "source": [
    "# Información general del dataset\n",
    "print(orders.info()) "
   ]
  },
  {
   "cell_type": "code",
   "execution_count": null,
   "metadata": {},
   "outputs": [
    {
     "name": "stdout",
     "output_type": "stream",
     "text": [
      "0\n"
     ]
    }
   ],
   "source": [
    "# Conversión de tipos de datos\n",
    "orders['date'] = pd.to_datetime(orders['date'])"
   ]
  },
  {
   "cell_type": "code",
   "execution_count": null,
   "metadata": {},
   "outputs": [],
   "source": [
    "# Verificación de duplicados\n",
    "duplicates_count = orders.duplicated().sum()\n",
    "print(f\"Filas duplicadas encontradas: {duplicates_count}\")"
   ]
  },
  {
   "cell_type": "code",
   "execution_count": null,
   "metadata": {},
   "outputs": [
    {
     "name": "stdout",
     "output_type": "stream",
     "text": [
      "Número de usuarios en ambos grupos: 58\n"
     ]
    }
   ],
   "source": [
    "# Análisis de integridad de grupos experimentales\n",
    "print(\"\\n--- Análisis de Contaminación entre Grupos ---\")\n",
    "\n",
    "# Identificar usuarios que aparecen en múltiples grupos\n",
    "visitor_groups = orders.groupby('visitorId')['group'].nunique()\n",
    "\n",
    "# Filtrar los usuarios que aparecen en más de un grupo (es decir, en ambos grupos)\n",
    "visitors_in_both_groups = visitor_groups[visitor_groups > 1]\n",
    "print(f'Número de usuarios en ambos grupos: {len(visitors_in_both_groups)}')"
   ]
  },
  {
   "cell_type": "code",
   "execution_count": null,
   "metadata": {},
   "outputs": [],
   "source": [
    "if len(visitors_in_both_groups) > 0:\n",
    "    print(\"Detectada contaminación entre grupos experimentales\")\n",
    "    \n",
    "    # Mostrar distribución antes del filtrado\n",
    "    print(\"\\nDistribución ANTES del filtrado:\")\n",
    "    users_before = orders.groupby('group')['visitorId'].nunique()\n",
    "    print(users_before)\n",
    "    \n",
    "    # Filtrar usuarios contaminados\n",
    "    orders_filtered = orders[~orders['visitorId'].isin(visitors_in_both_groups.index)]\n",
    "    \n",
    "    # Mostrar distribución después del filtrado\n",
    "    print(\"\\nDistribución DESPUÉS del filtrado:\")\n",
    "    users_after = orders_filtered.groupby('group')['visitorId'].nunique()\n",
    "    print(users_after)\n",
    "    \n",
    "    print(f\"\\nUsuarios eliminados: {len(visitors_in_both_groups)}\")\n",
    "    print(\"Dataset limpio para análisis experimental\")\n",
    "    \n",
    "else:\n",
    "    print(\"No hay contaminación entre grupos\")\n",
    "    orders_filtered = orders.copy()"
   ]
  },
  {
   "cell_type": "markdown",
   "metadata": {},
   "source": [
    "#### **Exploración del dataset `visits`**"
   ]
  },
  {
   "cell_type": "code",
   "execution_count": null,
   "metadata": {},
   "outputs": [
    {
     "name": "stdout",
     "output_type": "stream",
     "text": [
      "         date group  visits\n",
      "0  2019-08-01     A     719\n",
      "1  2019-08-02     A     619\n",
      "2  2019-08-03     A     507\n",
      "3  2019-08-04     A     717\n",
      "4  2019-08-05     A     756\n",
      "\n",
      "<class 'pandas.core.frame.DataFrame'>\n",
      "RangeIndex: 62 entries, 0 to 61\n",
      "Data columns (total 3 columns):\n",
      " #   Column  Non-Null Count  Dtype \n",
      "---  ------  --------------  ----- \n",
      " 0   date    62 non-null     object\n",
      " 1   group   62 non-null     object\n",
      " 2   visits  62 non-null     int64 \n",
      "dtypes: int64(1), object(2)\n",
      "memory usage: 1.6+ KB\n",
      "None\n"
     ]
    }
   ],
   "source": [
    "# Primeras filas del dataset\n",
    "print(visits.head())"
   ]
  },
  {
   "cell_type": "code",
   "execution_count": null,
   "metadata": {},
   "outputs": [],
   "source": [
    "# Información general del dataset\n",
    "print(visits.info())"
   ]
  },
  {
   "cell_type": "code",
   "execution_count": null,
   "metadata": {},
   "outputs": [
    {
     "name": "stdout",
     "output_type": "stream",
     "text": [
      "0\n"
     ]
    }
   ],
   "source": [
    "# Conversión de tipo de datos\n",
    "visits['date'] = pd.to_datetime(visits['date'])\n",
    "\n",
    "# Verificación de duplicados\n",
    "print(visits.duplicated().sum())"
   ]
  },
  {
   "cell_type": "markdown",
   "metadata": {},
   "source": [
    "## **2. Priorización de Hipótesis**\n",
    "### **Contexto**\n",
    "Aplicación de frameworks de priorización (ICE y RICE) para evaluar hipótesis de crecimiento basadas en criterios cuantitativos de impacto, confianza, esfuerzo y alcance."
   ]
  },
  {
   "cell_type": "markdown",
   "metadata": {},
   "source": [
    "### **2.1 Framework ICE (Impact × Confidence ÷ Effort)**"
   ]
  },
  {
   "cell_type": "code",
   "execution_count": null,
   "metadata": {},
   "outputs": [
    {
     "name": "stdout",
     "output_type": "stream",
     "text": [
      "                                          hypothesis        ice\n",
      "8  Launch a promotion that gives users discounts ...  16.200000\n",
      "0  Add two new channels for attracting traffic. T...  13.333333\n",
      "7  Add a subscription form to all the main pages....  11.200000\n",
      "6  Show banners with current offers and sales on ...   8.000000\n",
      "2  Add product recommendation blocks to the store...   7.000000\n",
      "1  Launch your own delivery service. This will sh...   2.000000\n",
      "5  Add a customer review page. This will increase...   1.333333\n",
      "3  Change the category structure. This will incre...   1.125000\n",
      "4  Change the background color on the main page. ...   1.000000\n"
     ]
    }
   ],
   "source": [
    "# Calculo del score ICE\n",
    "hypothesis['ice'] = (hypothesis['impact']*hypothesis['confidence'])/hypothesis['effort']\n",
    "\n",
    "# Ranking de hipótesis por ICE\n",
    "print(\"=== RANKING ICE ===\")\n",
    "print(hypothesis[['hypothesis','ice']].sort_values(by='ice', ascending=False))"
   ]
  },
  {
   "cell_type": "markdown",
   "metadata": {},
   "source": [
    "### **2.2 Framework RICE (Reach × Impact × Confidence ÷ Effort)**"
   ]
  },
  {
   "cell_type": "code",
   "execution_count": null,
   "metadata": {},
   "outputs": [
    {
     "name": "stdout",
     "output_type": "stream",
     "text": [
      "                                          hypothesis   rice\n",
      "7  Add a subscription form to all the main pages....  112.0\n",
      "2  Add product recommendation blocks to the store...   56.0\n",
      "0  Add two new channels for attracting traffic. T...   40.0\n",
      "6  Show banners with current offers and sales on ...   40.0\n",
      "8  Launch a promotion that gives users discounts ...   16.2\n",
      "3  Change the category structure. This will incre...    9.0\n",
      "1  Launch your own delivery service. This will sh...    4.0\n",
      "5  Add a customer review page. This will increase...    4.0\n",
      "4  Change the background color on the main page. ...    3.0\n"
     ]
    }
   ],
   "source": [
    "# Cálculo del score RICE\n",
    "hypothesis['rice'] = (hypothesis['reach']*hypothesis['impact']*hypothesis['confidence'])/hypothesis['effort']\n",
    "\n",
    "# Ranking de hipótesis por RICE\n",
    "print(\"=== RANKING RICE ===\")\n",
    "print(hypothesis[['hypothesis','rice']].sort_values(by='rice', ascending=False))"
   ]
  },
  {
   "cell_type": "markdown",
   "metadata": {},
   "source": [
    "### **2.3 Análisis Comparativo de Frameworks**"
   ]
  },
  {
   "cell_type": "code",
   "execution_count": null,
   "metadata": {},
   "outputs": [
    {
     "name": "stdout",
     "output_type": "stream",
     "text": [
      "                                          hypothesis        ice   rice\n",
      "7  Add a subscription form to all the main pages....  11.200000  112.0\n",
      "2  Add product recommendation blocks to the store...   7.000000   56.0\n",
      "0  Add two new channels for attracting traffic. T...  13.333333   40.0\n",
      "6  Show banners with current offers and sales on ...   8.000000   40.0\n",
      "8  Launch a promotion that gives users discounts ...  16.200000   16.2\n",
      "3  Change the category structure. This will incre...   1.125000    9.0\n",
      "1  Launch your own delivery service. This will sh...   2.000000    4.0\n",
      "5  Add a customer review page. This will increase...   1.333333    4.0\n",
      "4  Change the background color on the main page. ...   1.000000    3.0\n"
     ]
    }
   ],
   "source": [
    "# Comparación directa de ambos rankings\n",
    "print(\"=== COMPARACIÓN ICE vs RICE ===\")\n",
    "print(hypothesis[['hypothesis','ice','rice']].sort_values(by='rice',ascending=False))"
   ]
  },
  {
   "cell_type": "markdown",
   "metadata": {},
   "source": [
    "**Comparación**"
   ]
  },
  {
   "cell_type": "code",
   "execution_count": null,
   "metadata": {},
   "outputs": [],
   "source": [
    "# Análisis de cambios en posicionamiento\n",
    "ice_rank = hypothesis[['hypothesis', 'ice_score']].sort_values(by='ice_score', ascending=False).reset_index(drop=True)\n",
    "rice_rank = hypothesis[['hypothesis', 'rice_score']].sort_values(by='rice_score', ascending=False).reset_index(drop=True)\n",
    "\n",
    "ice_rank['ice_position'] = range(1, len(ice_rank) + 1)\n",
    "rice_rank['rice_position'] = range(1, len(rice_rank) + 1)\n",
    "\n",
    "# Merge para ver cambios de posición\n",
    "position_changes = ice_rank[['hypothesis', 'ice_position']].merge(\n",
    "    rice_rank[['hypothesis', 'rice_position']], on='hypothesis'\n",
    ")\n",
    "position_changes['position_change'] = position_changes['ice_position'] - position_changes['rice_position']\n",
    "\n",
    "print(\"\\n=== CAMBIOS DE POSICIÓN ===\")\n",
    "print(position_changes.sort_values(by='rice_position'))"
   ]
  },
  {
   "cell_type": "markdown",
   "metadata": {},
   "source": [
    "### **2.4 Insights y Recomendaciones**\n",
    "**Diferencias Clave entre ICE y RICE:**\n",
    "\n",
    "* **ICE** prioriza eficiencia (impacto/esfuerzo) sin considerar escala de usuarios\n",
    "* **RICE** incorpora el alcance, crucial para productos con gran base de usuarios\n",
    "\n",
    "**Análisis de Cambios:**\n",
    "\n",
    "El factor \"Reach\" en RICE reordena significativamente las prioridades, favoreciendo hipótesis con mayor potencial de alcance de usuarios, aunque requieran mayor esfuerzo relativo.\n",
    "\n",
    "**Recomendación Estratégica:**\n",
    "\n",
    "Para una tienda online con volumen significativo de tráfico, **RICE es el framework más apropiado** ya que:\n",
    "1. Maximiza el impacto total considerando la escala de usuarios\n",
    "2. Equilibra mejor el retorno de inversión real\n",
    "3. Prioriza iniciativas con mayor potencial de crecimiento absoluto\n",
    "\n",
    "**Hipótesis Prioritaria:**\n",
    "Add a subscription form to all the main pages..."
   ]
  },
  {
   "cell_type": "markdown",
   "metadata": {},
   "source": [
    "## **3. Análisis del test A/B**"
   ]
  },
  {
   "cell_type": "markdown",
   "metadata": {},
   "source": [
    "### **3.1 Preparación: Recopilación de Datos Acumulados**"
   ]
  },
  {
   "cell_type": "markdown",
   "metadata": {},
   "source": [
    "#### **3.1.1 Creación de matriz fecha-grupo**"
   ]
  },
  {
   "cell_type": "code",
   "execution_count": null,
   "metadata": {},
   "outputs": [
    {
     "name": "stdout",
     "output_type": "stream",
     "text": [
      "           date group\n",
      "0    2019-08-15     B\n",
      "7    2019-08-15     A\n",
      "45   2019-08-16     A\n",
      "47   2019-08-16     B\n",
      "55   2019-08-01     A\n",
      "...         ...   ...\n",
      "1068 2019-08-12     A\n",
      "1114 2019-08-13     B\n",
      "1116 2019-08-13     A\n",
      "1149 2019-08-14     B\n",
      "1150 2019-08-14     A\n",
      "\n",
      "[62 rows x 2 columns]\n"
     ]
    }
   ],
   "source": [
    "# Generación de combinaciones únicas fecha-grupo para análisis acumulativo\n",
    "datesGroups = orders_filtered[['date','group']].drop_duplicates()\n",
    "print(datesGroups)"
   ]
  },
  {
   "cell_type": "markdown",
   "metadata": {},
   "source": [
    "**3.1.2 Recopilación de datos diarios acumulados agregados sobre los pedidos.**"
   ]
  },
  {
   "cell_type": "code",
   "execution_count": null,
   "metadata": {},
   "outputs": [
    {
     "name": "stdout",
     "output_type": "stream",
     "text": [
      "          date group  transactionId  visitorId  revenue\n",
      "55  2019-08-01     A             23         19   2266.6\n",
      "66  2019-08-01     B             17         17    967.2\n",
      "175 2019-08-02     A             42         36   3734.9\n",
      "173 2019-08-02     B             40         39   3535.3\n",
      "291 2019-08-03     A             66         60   5550.1\n"
     ]
    }
   ],
   "source": [
    "# Cálculo de métricas acumuladas de pedidos por fecha y grupo\n",
    "# Permite visualizar la evolución temporal del experimento\n",
    "ordersAggregated = datesGroups.apply(\n",
    "    lambda x: orders_filtered[  # Para cada combinación fecha-grupo, filtra los pedidos acumulados hasta esa fecha para ese grupo\n",
    "        np.logical_and(\n",
    "            orders_filtered['date'] <= x['date'],  # Mantiene pedidos hasta la fecha actual (acumulados)\n",
    "            orders_filtered['group'] == x['group']  # Solo los pedidos del grupo actual (A o B)\n",
    "        )\n",
    "    ].agg(\n",
    "        {                                           # Resume los datos filtrados acumulados en 5 métricas\n",
    "            'date': 'max',                          # Última fecha\n",
    "            'group': 'max',                         # Grupo (A o B)\n",
    "            'transactionId': pd.Series.nunique,     # Pedidos únicos acumulados\n",
    "            'visitorId': pd.Series.nunique,         # Usuarios únicos acumulados\n",
    "            'revenue': 'sum'                        # Ingresos acumulados\n",
    "        }\n",
    "    ),\n",
    "    axis=1                                          # Se aplica fila por fila\n",
    ").sort_values(by=['date', 'group'])                 # Ordena para que las fechas y grupos estén bien organizados\n",
    "\n",
    "# Muestra las primeras filas para validar el resultado\n",
    "print(ordersAggregated.head())"
   ]
  },
  {
   "cell_type": "markdown",
   "metadata": {},
   "source": [
    "*Interpretación: Es como si hubiéramos estado calculando los resultados de nuestra prueba todos los días hasta la fecha actual, almacenándolos en las filas de la tabla ordersAggregated.*"
   ]
  },
  {
   "cell_type": "markdown",
   "metadata": {},
   "source": [
    "**3.1.3 Recopilación de datos diarios acumulados agregados sobre los visitantes.**"
   ]
  },
  {
   "cell_type": "code",
   "execution_count": null,
   "metadata": {},
   "outputs": [
    {
     "name": "stdout",
     "output_type": "stream",
     "text": [
      "          date group  visits\n",
      "55  2019-08-01     A     719\n",
      "66  2019-08-01     B     713\n",
      "175 2019-08-02     A    1338\n",
      "173 2019-08-02     B    1294\n",
      "291 2019-08-03     A    1845\n"
     ]
    }
   ],
   "source": [
    "# Cálculo de visitas acumuladas para análisis de conversión\n",
    "# Permite visualizar la evolución de visitantes únicos por fecha y grupo\n",
    "visitsAggregated = datesGroups.apply(\n",
    "    lambda x: visits[\n",
    "        # Filtro: conserva filas hasta la fecha actual y solo del grupo actual\n",
    "        np.logical_and(\n",
    "            visits['date'] <= x['date'],  # Fechas hasta la fecha actual\n",
    "            visits['group'] == x['group']  # Solo el grupo A o B según corresponda\n",
    "        )\n",
    "    ].agg(\n",
    "        {  # Calcula métricas acumuladas\n",
    "            'date': 'max',          # Fecha máxima (actual)\n",
    "            'group': 'max',         # Grupo (A o B)\n",
    "            'visits': 'sum'         # Total acumulado de visitantes hasta la fecha\n",
    "        }\n",
    "    ),\n",
    "    axis=1  # Aplica la función fila por fila (cada fila es una fecha-grupo)\n",
    ").sort_values(by=['date', 'group'])  # Ordena el DataFrame final\n",
    "\n",
    "# Muestra las primeras filas para validar el resultado\n",
    "print(visitsAggregated.head())"
   ]
  },
  {
   "cell_type": "markdown",
   "metadata": {},
   "source": [
    "**3.1.4 Fusionamos las dos tablas**"
   ]
  },
  {
   "cell_type": "code",
   "execution_count": null,
   "metadata": {},
   "outputs": [
    {
     "name": "stdout",
     "output_type": "stream",
     "text": [
      "         date group  orders  buyers  revenue  visitors\n",
      "0  2019-08-01     A      23      19   2266.6       719\n",
      "1  2019-08-01     B      17      17    967.2       713\n",
      "2  2019-08-02     A      42      36   3734.9      1338\n",
      "3  2019-08-02     B      40      39   3535.3      1294\n",
      "4  2019-08-03     A      66      60   5550.1      1845\n",
      "..        ...   ...     ...     ...      ...       ...\n",
      "57 2019-08-29     B     510     490  74576.7     17708\n",
      "58 2019-08-30     A     460     437  52363.7     18037\n",
      "59 2019-08-30     B     531     511  77863.5     18198\n",
      "60 2019-08-31     A     468     445  53212.0     18736\n",
      "61 2019-08-31     B     548     528  79651.2     18916\n",
      "\n",
      "[62 rows x 6 columns]\n"
     ]
    }
   ],
   "source": [
    "# Fusionamos las dos tablas para obtener un DataFrame acumulativo final\n",
    "cumulativeData = ordersAggregated.merge(visitsAggregated, left_on=['date','group'], right_on=['date','group'])\n",
    "# Convertimos los nombres de las columnas para mayor claridad\n",
    "cumulativeData.columns = ['date','group','orders','buyers','revenue','visitors']\n",
    "\n",
    "print(cumulativeData)"
   ]
  },
  {
   "cell_type": "code",
   "execution_count": null,
   "metadata": {},
   "outputs": [],
   "source": [
    "# Validación de integridad de datos\n",
    "print(f\"\\nGrupos experimentales: {cumulativeData['group'].unique()}\")\n",
    "print(f\"Período de análisis: {cumulativeData['date'].min()} - {cumulativeData['date'].max()}\")"
   ]
  },
  {
   "cell_type": "markdown",
   "metadata": {},
   "source": [
    "### **3.2 Representación gráfica del ingreso acumulado por grupo.**"
   ]
  },
  {
   "cell_type": "code",
   "execution_count": null,
   "metadata": {},
   "outputs": [
    {
     "data": {
      "image/png": "[encoded data removed]",
      "text/plain": [
       "<Figure size 640x480 with 1 Axes>"
      ]
     },
     "metadata": {},
     "output_type": "display_data"
    }
   ],
   "source": [
    "# DataFrame con pedidos e ingresos acumulados por día, grupo A\n",
    "cumulativeRevenueA = cumulativeData[cumulativeData['group']=='A'][['date','revenue','orders']]\n",
    "# DataFrame con pedidos e ingresos acumulados por día, grupo B\n",
    "cumulativeRevenueB = cumulativeData[cumulativeData['group']=='B'][['date','revenue','orders']]\n",
    "\n",
    "# Gráfico de ingresos acumulados del grupo A\n",
    "plt.plot(cumulativeRevenueA['date'], cumulativeRevenueA['revenue'], label='A', color='deeppink')\n",
    "# Gráfico de ingresos acumulados del grupo B\n",
    "plt.plot(cumulativeRevenueB['date'], cumulativeRevenueB['revenue'], label='B', color='blue')\n",
    "\n",
    "# Personalización del gráfico\n",
    "plt.title('Ingresos acumulados por día y grupo de prueba A/B')\n",
    "plt.xlabel('Fecha de prueba')\n",
    "plt.ylabel('Ingresos acumulados')\n",
    "plt.tick_params(axis='x', rotation=60)\n",
    "plt.legend()\n",
    "plt.show()"
   ]
  },
  {
   "cell_type": "markdown",
   "metadata": {},
   "source": [
    "**Análisis:**\n",
    "\n",
    "* Ambos grupos muestran una tendencia/crecimiento sostenido de ingresos acumulados a lo largo del periodo.\n",
    "* El grupo B demuestra un desempeño superior, alcanzando aproximadamente $78,000 en ingresos acumulados vs. $54,000 del grupo A (diferencia del ~44%).\n",
    "* El grupo B presenta aceleraciones pronunciadas en ciertos periodos, sugiriendo eventos de compra de alto valor o incrementos significativos en la frecuencia de pedido.\n",
    "* El grupo B muestra cambios de pendiente notable alrededor de las fechas 2019-08-13 y 2019-08-17, lo que podría indicar:\n",
    "   - Pedidos de alto valor (outliers)\n",
    "   - Mejoras en la conversión de usuarios de alto valor\n",
    "   - Efectos estacionales o promocionales\n",
    "\n",
    "En general, el grupo B parece generar mayor valor por usuario, sin embargo, es fundamental realizar un análisis adicional en el tamaño promedio de pedido y detectar cualquier anomalía para confirmar la significancia estadística.\n",
    "\n",
    "\n",
    "\n",
    "\n",
    "Los ingresos aumentan constantemente durante toda la prueba. Sin embargo, el grupo B tiene picos en los ingresos en ciertos puntos, así como el grupo A pero en menor cantidad. Esto puede implicar un aumento en el número de pedidos o la existencia de pedidos muy caros en la muestra."
   ]
  },
  {
   "cell_type": "markdown",
   "metadata": {},
   "source": [
    "### **3.2 Representación gráfica del tamaño de pedido promedio acumulado por grupo.**"
   ]
  },
  {
   "cell_type": "code",
   "execution_count": null,
   "metadata": {},
   "outputs": [
    {
     "data": {
      "image/png": "[encoded data removed]",
      "text/plain": [
       "<Figure size 640x480 with 1 Axes>"
      ]
     },
     "metadata": {},
     "output_type": "display_data"
    }
   ],
   "source": [
    "# Grafico de tamaño promedio de pedido acumulado del grupo A\n",
    "plt.plot(cumulativeRevenueA['date'], cumulativeRevenueA['revenue']/cumulativeRevenueA['orders'], label='A', color='deeppink')\n",
    "# Grafico de tamaño promedio de pedido acumulado del grupo B\n",
    "plt.plot(cumulativeRevenueB['date'], cumulativeRevenueB['revenue']/cumulativeRevenueB['orders'], label='B', color='blue')\n",
    "\n",
    "# Personalización de gráfico\n",
    "plt.title('Tamaño promedio de pedido acumulado por día y grupo de prueba A/B')\n",
    "plt.xlabel('Fecha de prueba')\n",
    "plt.ylabel('Tamaño promedio de pedido acumulado')\n",
    "plt.tick_params(axis='x', rotation=60)\n",
    "plt.legend()\n",
    "plt.show()"
   ]
  },
  {
   "cell_type": "markdown",
   "metadata": {},
   "source": [
    "**Análisis**\n",
    "\n",
    "Los datos revelan patrones contrastantes entre grupos que explican las diferencias observadas en ingresos acumulados. El grupo B experimenta un incremento significativo en el tamaño promedio de pedido, alcanzando un máximo de $162 aproximadamente, alrededor del 17 de agosto, antes de estabilizarse cerca de $145.\n",
    "\n",
    "El grupo A mantiene mayor consistencia, con valores entre $110-115 a lo largo del experimento. Esta estabilidad corrobora el crecimiento lineal observado en sus ingresos acumulados.\n",
    "\n",
    "Un hallazo crítico es la tendencia descendiente del grpo B hacia el final del periodo experimental. Esta volatilidad sugiere la presencia de outliers o efectos temporales que requieren validación estadística. El comportamiento del grupo A, aunque genera menor valor absoluto, demuestra mayor predictibilidad.\n",
    "\n",
    "Dicho esto, se requiere realizar un análisis más puntual para la detección de anomalías significativas."
   ]
  },
  {
   "cell_type": "markdown",
   "metadata": {},
   "source": [
    "### **3.3 Representación gráfica de la diferencia relativa en el tamaño de pedido promedio acumulado B vs A**"
   ]
  },
  {
   "cell_type": "code",
   "execution_count": null,
   "metadata": {},
   "outputs": [
    {
     "data": {
      "image/png": "[encoded data removed]",
      "text/plain": [
       "<Figure size 640x480 with 1 Axes>"
      ]
     },
     "metadata": {},
     "output_type": "display_data"
    }
   ],
   "source": [
    "# Unimos los datos acumulados en un DataFrame\n",
    "mergedCumulativeRevenue = cumulativeRevenueA.merge(cumulativeRevenueB, left_on='date', right_on='date', how='left', suffixes=['A','B'])\n",
    "\n",
    "# Trazamos un gráfico de diferencia relativa para los tamaños promedio de compra\n",
    "plt.plot(mergedCumulativeRevenue['date'],\n",
    "        (mergedCumulativeRevenue['revenueB']/mergedCumulativeRevenue['ordersB'])/(mergedCumulativeRevenue['revenueA']/mergedCumulativeRevenue['ordersA'])-1, \n",
    "         color='orangered')\n",
    "\n",
    "# Personalización de gráfico\n",
    "plt.title('Diferencia relativa en el tamaño de pedido del grupo B en comparación con el grupo A')\n",
    "plt.xlabel('Fecha de prueba')\n",
    "plt.ylabel('Diferencia relativa de B sobre A')\n",
    "plt.tick_params(axis='x', rotation=60)\n",
    "plt.axhline(y=0, color='black', linestyle='--')\n",
    "plt.show()"
   ]
  },
  {
   "cell_type": "markdown",
   "metadata": {},
   "source": [
    "**Análisis**\n",
    "\n",
    "El gráfico evidencia la superioridad del grupo B durante la mayor parte del experimento, con diferencias relativas que alcanzan hasta 50% en ciertos períodos. Particularmente notable es el incremento sostenido posterior al 17 de agosto, donde el grupo B mantiene consistentemente entre 25-45% de ventaja sobre el grupo A.\n",
    "\n",
    "La volatilidad inicial y los picos pronunciados confirman la hipótesis de presencia de outliers significativos. El comportamiento errático en las primeras fechas, incluyendo períodos donde B underperforma (-40%), sugiere que valores extremos están influenciando desproporcionadamente las métricas agregadas.\n",
    "\n",
    "Aunque los resultados favorecen al grupo B, la magnitud de las fluctuaciones indica que el tamaño promedio de pedido puede estar siendo distorsionado por transacciones atípicas. La tendencia descendente hacia el final del período (de 50% a 28%) refuerza esta preocupación, sugiriendo que el efecto inicial podría no ser representativo del comportamiento típico del usuario."
   ]
  },
  {
   "cell_type": "markdown",
   "metadata": {},
   "source": [
    "### **3.4 Tasa de conversión de cada grupo**"
   ]
  },
  {
   "cell_type": "code",
   "execution_count": 63,
   "metadata": {},
   "outputs": [
    {
     "data": {
      "image/png": "[encoded data removed]",
      "text/plain": [
       "<Figure size 640x480 with 1 Axes>"
      ]
     },
     "metadata": {},
     "output_type": "display_data"
    }
   ],
   "source": [
    "# Calculamos la conversión acumulada\n",
    "cumulativeData['conversion'] = cumulativeData['orders']/cumulativeData['visitors']\n",
    "\n",
    "# Seleccionamos los datos en el grupo \n",
    "cumulativeDataA = cumulativeData[cumulativeData['group']=='A']\n",
    "# Seleccionamos los datos en el grupo B\n",
    "cumulativeDataB = cumulativeData[cumulativeData['group']=='B']\n",
    "\n",
    "# Trazamos los gráficos\n",
    "plt.plot(cumulativeDataA['date'], cumulativeDataA['conversion'], label='A', color='deeppink')\n",
    "plt.plot(cumulativeDataB['date'], cumulativeDataB['conversion'], label='B', color='blue')\n",
    "\n",
    "# Establecemos la escala de los ejes\n",
    "plt.axis([cumulativeData['date'].min(), cumulativeData['date'].max(), 0, cumulativeData['conversion'].max()])\n",
    "\n",
    "# Personalización de gráfico\n",
    "plt.title('Conversión acumulada para los grupos de prueba A/B')\n",
    "plt.xlabel('Fecha de prueba')\n",
    "plt.ylabel('Conversión acumulada')\n",
    "plt.tick_params(axis='x', rotation=60)\n",
    "plt.legend()\n",
    "plt.show()"
   ]
  },
  {
   "cell_type": "markdown",
   "metadata": {},
   "source": [
    "**Análisis**\n",
    "\n",
    "Los grupos fluctuaron al rededor de la primera semana con un pico positivo, sin embargo, durante el tiempo de la prueba, el grupo B se mantuvo constante con tendencia positiva (tuvo mayor tasa de conversión) en comparación con el grupo A. Cabe destacar que no hemos hecho un análisis o filtro de valores atípicos, lo que podría estarnos arrojando resultados erróneos.\n",
    "\n",
    "El análisis de conversión revela un patrón diferente al observado en las métricas de ingresos. Ambos grupos muestran tasas de conversión similares, con el grupo B manteniendo una ligera ventaja sostenida de aproximadamente 0.5 puntos porcentuales (3.0% vs 2.5%).\n",
    "\n",
    "Tras la volatilidad inicial de la primera semana, ambos grupos convergen hacia tasas de conversión estables. El grupo B se estabiliza alrededor del 3.0%, mientras que el grupo A se mantiene cerca del 2.5%. Esta diferencia del 20% relativo en conversión es consistente a lo largo del experimento.\n",
    "\n",
    "Los resultados sugieren que **la ventaja del grupo B en ingresos no proviene únicamente de mayor conversión, sino de la combinación de mejor tasa de conversión y mayor valor por transacción.** Esta dualidad indica que la variante B optimiza tanto la adquisición de usuarios como su valor monetario.\n",
    "\n",
    "La estabilidad de ambas métricas post-período inicial sugiere que los cambios observados representan efectos genuinos del experimento, reduciendo la probabilidad de que sean únicamente resultado de fluctuaciones aleatorias.\n"
   ]
  },
  {
   "cell_type": "markdown",
   "metadata": {},
   "source": [
    "### **3.5 Gráfico de dispersión del número de pedidos por usuario.**"
   ]
  },
  {
   "cell_type": "code",
   "execution_count": 64,
   "metadata": {},
   "outputs": [
    {
     "data": {
      "image/png": "[encoded data removed]",
      "text/plain": [
       "<Figure size 640x480 with 1 Axes>"
      ]
     },
     "metadata": {},
     "output_type": "display_data"
    }
   ],
   "source": [
    "# Agrupamos para graficar\n",
    "ordersByUsers = (\n",
    "    orders_filtered.groupby('visitorId', as_index=False).agg({'transactionId':pd.Series.nunique})\n",
    ")\n",
    "ordersByUsers.columns = ['userId', 'orders']\n",
    "\n",
    "# Graficamos\n",
    "x_values = pd.Series(range(0,len(ordersByUsers))) # Rango de valores en x\n",
    "plt.scatter(x_values, ordersByUsers['orders']) \n",
    "\n",
    "# Personalización de gráfico\n",
    "plt.title('Número de pedidos por usuario para los grupos de prueba A/B')\n",
    "plt.xlabel('Fecha de prueba')\n",
    "plt.ylabel('Número de pedidos por usuario')\n",
    "plt.show()"
   ]
  },
  {
   "cell_type": "markdown",
   "metadata": {},
   "source": [
    "**Análisis**\n",
    "\n",
    "Hay muy pocos usuarios que tienen más de 2 pedidos (podríamos considerarlos valores atípicos) y muy probablemente haya que ajustar o filtrar los datos en donde los pedidos sean igual o menores a 2."
   ]
  },
  {
   "cell_type": "markdown",
   "metadata": {},
   "source": [
    "### **3.6 Percentiles del número de pedidos por usuario.**\n"
   ]
  },
  {
   "cell_type": "code",
   "execution_count": 25,
   "metadata": {},
   "outputs": [
    {
     "name": "stdout",
     "output_type": "stream",
     "text": [
      "[1. 2.]\n"
     ]
    }
   ],
   "source": [
    "# Percentiles 95 y 99 del número de pedidos por usuario\n",
    "print(np.percentile(ordersByUsers['orders'],[95,99]))"
   ]
  },
  {
   "cell_type": "markdown",
   "metadata": {},
   "source": [
    "**Conclusión**\n",
    "\n",
    "El análisis de pedidos revela que el 95% de los usuarios realizaron un pedido o menos, mientras que solo el 5% realizaron más de un pedido. Además, el 99% de los usuarios realizaron dos pedidos o menos, con apenas un 1% superando este umbral.\n",
    "\n",
    "Dado este comportamiento, **se recomienda establecer un límite superior de 1 pedido por usuario como referencia para la actividad habitual.** Este umbral puede servir como criterio para la detección y filtrado de posibles anomalías en el patrón de compra."
   ]
  },
  {
   "cell_type": "markdown",
   "metadata": {},
   "source": [
    "### **3.7 Gráfico de dispersión de los precios de los pedidos.**"
   ]
  },
  {
   "cell_type": "code",
   "execution_count": 66,
   "metadata": {},
   "outputs": [
    {
     "data": {
      "image/png": "[encoded data removed]",
      "text/plain": [
       "<Figure size 640x480 with 1 Axes>"
      ]
     },
     "metadata": {},
     "output_type": "display_data"
    }
   ],
   "source": [
    "# Graficamos la dispersión de los precios d elos pedidos\n",
    "x_values = pd.Series(range(0, len(orders_filtered['revenue']))) # Rango de valores en x\n",
    "plt.scatter(x_values, orders_filtered['revenue'])\n",
    "\n",
    "# Personalización de gráfico\n",
    "plt.title('Precios de los pedidos por usuario para los grupos de prueba A/B')\n",
    "plt.xlabel('Fecha de prueba')\n",
    "plt.ylabel('Precio de pedidos')\n",
    "plt.show()"
   ]
  },
  {
   "cell_type": "markdown",
   "metadata": {},
   "source": [
    "**Análisis**\n",
    "\n",
    "A primera vista, se identifican dos pedidos significativamente grandes en comparación con el resto, lo que podría estar generando ruido en las visualizaciones. \n",
    "\n",
    "Este comportamiento atípico puede distorsionar la interpretación de los datos, por lo que es recomendable evaluar su impacto y considerar estrategias para su tratamiento en el análisis."
   ]
  },
  {
   "cell_type": "markdown",
   "metadata": {},
   "source": [
    "### **3.8 Percentiles de los precios de los pedidos.**"
   ]
  },
  {
   "cell_type": "code",
   "execution_count": 27,
   "metadata": {},
   "outputs": [
    {
     "name": "stdout",
     "output_type": "stream",
     "text": [
      "[414.275 830.3  ]\n"
     ]
    }
   ],
   "source": [
    "# Percentil 95 y 99 para los precios de los pedidos por usuario\n",
    "print(np.percentile(orders_filtered['revenue'], [95,99]))"
   ]
  },
  {
   "cell_type": "markdown",
   "metadata": {},
   "source": [
    "**Conclusión**\n",
    "\n",
    "El análisis de pedidos muestra que el 95% de los usuarios realizaron compras de 414.275 o menos, mientras que solo el 5% superaron este valor. Además, el 99% de los usuarios realizaron pedidos de 830.3 o menos, dejando únicamente un 1% con montos superiores.\n",
    "\n",
    "Con base en este comportamiento, **se recomienda establecer 414.275 como umbral superior para definir un patrón de compra habitual.** Este límite puede utilizarse como criterio para identificar y filtrar posibles anomalías en los datos."
   ]
  },
  {
   "cell_type": "markdown",
   "metadata": {},
   "source": [
    "### **3.9 Significancia estadística de la diferencia en la conversión entre los grupos utilizando datos en bruto.**"
   ]
  },
  {
   "cell_type": "code",
   "execution_count": 28,
   "metadata": {},
   "outputs": [],
   "source": [
    "# Almacenaremos los usuarios con al menos un pedido e indicaremos el número de pedidos realizados\n",
    "ordersByUsersA = orders_filtered[orders_filtered['group']=='A'].groupby('visitorId', as_index=False).agg({'transactionId':pd.Series.nunique})\n",
    "ordersByUsersA.columns = ['userId','orders']\n",
    "\n",
    "ordersByUsersB = orders_filtered[orders_filtered['group']=='B'].groupby('visitorId', as_index=False).agg({'transactionId':pd.Series.nunique})\n",
    "ordersByUsersB.columns = ['userId','orders']"
   ]
  },
  {
   "cell_type": "code",
   "execution_count": 77,
   "metadata": {},
   "outputs": [
    {
     "name": "stdout",
     "output_type": "stream",
     "text": [
      "p-value:\n",
      "0.011\n",
      "\n",
      "Diferencia en la conversión del grupo B sobre el grupo A:\n",
      "0.160\n"
     ]
    }
   ],
   "source": [
    "# Declaramos las variables con usuarios de diferentes grupos y números de pedidos\n",
    "sampleA = pd.concat([ordersByUsersA['orders'], pd.Series(0, index=np.arange(visits[visits['group']=='A']['visits'].sum()-len(ordersByUsersA['orders'])), name='orders')], axis=0)\n",
    "sampleB = pd.concat([ordersByUsersB['orders'], pd.Series(0, index=np.arange(visits[visits['group']=='B']['visits'].sum()-len(ordersByUsersB['orders'])), name='orders')], axis=0)\n",
    "\n",
    "print('p-value:')\n",
    "print(\"{0:.3f}\".format(stats.mannwhitneyu(sampleA, sampleB)[1])) # valor p del test estadístico Mann-Whitney U\n",
    "\n",
    "print('\\nDiferencia relativa en la conversión del grupo B sobre el grupo A:')\n",
    "print(\"{0:.3f}\".format(sampleB.mean()/sampleA.mean()-1)) # Esta línea calcula el aumento relativo del grupo B en comparación con el grupo A."
   ]
  },
  {
   "cell_type": "markdown",
   "metadata": {},
   "source": [
    "**Conclusión**\n",
    "\n",
    "El valor p obtenido (0.011) es menor que 0.05, lo que indica que la diferencia en la conversión entre los grupos es estadísticamente significativa. Por lo tanto, se rechaza la hipótesis nula en favor de la hipótesis alternativa.\n",
    "\n",
    "Además, el grupo B mostró un incremento relativo del 16% en comparación con el grupo A, lo que sugiere un mejor rendimiento en términos de conversión."
   ]
  },
  {
   "cell_type": "markdown",
   "metadata": {},
   "source": [
    "### **3.10 Significancia estadística de la diferencia en el tamaño promedio de pedido entre los grupos utilizando datos en bruto.**"
   ]
  },
  {
   "cell_type": "code",
   "execution_count": null,
   "metadata": {},
   "outputs": [
    {
     "name": "stdout",
     "output_type": "stream",
     "text": [
      "p-value\n",
      "0.862\n",
      "\n",
      "Diferencia relativa en el tamaño promedio de pedido del grupo B sobre el grupo A\n",
      "0.278\n"
     ]
    }
   ],
   "source": [
    "# Imprimimos el valor de p\n",
    "print('p-value')\n",
    "print(\"{0:.3f}\".format(stats.mannwhitneyu(orders_filtered[orders_filtered['group']=='A']['revenue'], orders_filtered[orders_filtered['group']=='B']['revenue'])[1]))\n",
    "# Imprimimos el aumento relativo del grupo B en comparación con el grupo A\n",
    "print('\\nDiferencia relativa en el tamaño promedio de pedido del grupo B sobre el grupo A')\n",
    "print(\"{0:.3f}\".format(orders_filtered[orders_filtered['group']=='B']['revenue'].mean()/orders_filtered[orders_filtered['group']=='A']['revenue'].mean()-1))"
   ]
  },
  {
   "cell_type": "markdown",
   "metadata": {},
   "source": [
    "**Conclusión**\n",
    "\n",
    "Dado que el valor p obtenido (0.862) es considerablemente mayor que 0.05, no se rechaza la hipótesis nula, lo que indica que no hay evidencia estadística suficiente para afirmar que el tamaño promedio de los pedidos difiere entre los grupos.\n",
    "\n",
    "Sin embargo, se observa que el tamaño promedio de pedido en el grupo B es mayor en comparación con el grupo A, aunque esta diferencia no es estadísticamente significativa."
   ]
  },
  {
   "cell_type": "markdown",
   "metadata": {},
   "source": [
    "### **3.11 Significancia estadística de la diferencia en la conversión entre los grupos utilizando los datos filtrados.**"
   ]
  },
  {
   "cell_type": "markdown",
   "metadata": {},
   "source": [
    "Para el análisis, definiremos usuarios anómalos como aquellos que han realizado más de un pedido o un pedido superior a 500. De este modo, excluiremos:\n",
    "- El 5% de los usuarios con mayor número de pedidos.\n",
    "- Entre el 1% y el 5% de los usuarios con los pedidos más caros.\n",
    "A continuación, generaremos subconjuntos de datos:\n",
    "- usersWithManyOrders: Usuarios que realizaron más de un pedido.\n",
    "- usersWithExpensiveOrders: Usuarios cuyos pedidos superan los 500.\n",
    "Finalmente, uniremos ambos subconjuntos en una tabla denominada abnormalUsers para su posterior análisis."
   ]
  },
  {
   "cell_type": "code",
   "execution_count": 31,
   "metadata": {},
   "outputs": [
    {
     "name": "stdout",
     "output_type": "stream",
     "text": [
      "568     113298937\n",
      "1099    148427295\n",
      "461     154576532\n",
      "928     204675465\n",
      "33      249864742\n",
      "dtype: int64\n",
      "(63,)\n"
     ]
    }
   ],
   "source": [
    "# Obtenemos a los usuarios con más de 1 orden\n",
    "usersWithManyOrders = pd.concat([ordersByUsersA[ordersByUsersA['orders']>1]['userId'], ordersByUsersB[ordersByUsersB['orders']>1]['userId']], axis=0)\n",
    "# Obrenemos a los usuarios con órdenes mayores a $500\n",
    "usersWithExpensiveOrders = orders_filtered[orders_filtered['revenue']>500]['visitorId']\n",
    "# Juntamos los dataframes \n",
    "abnormalUsers = pd.concat([usersWithManyOrders, usersWithExpensiveOrders], axis=0).drop_duplicates().sort_values()\n",
    "\n",
    "print(abnormalUsers.head())\n",
    "print(abnormalUsers.shape)"
   ]
  },
  {
   "cell_type": "markdown",
   "metadata": {},
   "source": [
    "**Conclusión**\n",
    "\n",
    "En total, tenemos 63 usuarios anómalos. Tratemos de averiguar cómo sus acciones afectaron los resultados de la prueba"
   ]
  },
  {
   "cell_type": "markdown",
   "metadata": {},
   "source": [
    "#### **3.11.1 Análisis de Usuarios anómalos**"
   ]
  },
  {
   "cell_type": "code",
   "execution_count": 32,
   "metadata": {},
   "outputs": [],
   "source": [
    "# Prepararemos muestras del número de pedidos por usuario para cada grupo de prueba\n",
    "sampleAFiltered = pd.concat([ordersByUsersA[np.logical_not(ordersByUsersA['userId'].isin(abnormalUsers))]['orders'],pd.Series(0, index=np.arange(visits[visits['group']=='A']['visits'].sum() - len(ordersByUsersA['orders'])),name='orders')],axis=0)\n",
    "sampleBFiltered = pd.concat([ordersByUsersB[np.logical_not(ordersByUsersB['userId'].isin(abnormalUsers))]['orders'],pd.Series(0, index=np.arange(visits[visits['group']=='B']['visits'].sum() - len(ordersByUsersB['orders'])),name='orders')],axis=0)"
   ]
  },
  {
   "cell_type": "code",
   "execution_count": 78,
   "metadata": {},
   "outputs": [
    {
     "name": "stdout",
     "output_type": "stream",
     "text": [
      "p-value:\n",
      "0.016\n",
      "Diferencia en la conversión del grupo B sobre el grupo A:\n",
      "0.176\n"
     ]
    }
   ],
   "source": [
    "# Aplicamos el criterio estadístico de Mann-Whitney a las muestras\n",
    "print('p-value:')\n",
    "print(\"{0:.3f}\".format(stats.mannwhitneyu(sampleAFiltered, sampleBFiltered)[1]))\n",
    "\n",
    "print('Diferencia relativa en la conversión del grupo B sobre el grupo A:')\n",
    "print(\"{0:.3f}\".format(sampleBFiltered.mean()/sampleAFiltered.mean()-1))"
   ]
  },
  {
   "cell_type": "markdown",
   "metadata": {},
   "source": [
    "El nuevo análisis arroja un valor p de 0.016, comparado con el valor previo de 0.011. Dado que sigue siendo menor que 0.05, se rechaza la hipótesis nula, lo que confirma que existe una diferencia estadísticamente significativa en la conversión entre los grupos.\n",
    "\n",
    "Además, se observa que el grupo B presentó un incremento relativo del 17% en comparación con el grupo A, manteniéndose prácticamente igual respecto al análisis anterior."
   ]
  },
  {
   "cell_type": "markdown",
   "metadata": {},
   "source": [
    "### **3.12 Significancia estadística de la diferencia en el tamaño promedio de pedido entre los grupos utilizando los datos filtrados.**"
   ]
  },
  {
   "cell_type": "code",
   "execution_count": 76,
   "metadata": {},
   "outputs": [
    {
     "name": "stdout",
     "output_type": "stream",
     "text": [
      "p-value:\n",
      "0.575\n",
      "Diferencia relativa en el tamaño promedio de pedido del grupo B sobre el grupo A;\n",
      "-0.070\n"
     ]
    }
   ],
   "source": [
    "# Muestra el valor p calculado con la prueba U de Mann-Whitney\n",
    "print('p-value:')\n",
    "print(\"{0:.3f}\".format(stats.mannwhitneyu(\n",
    "    orders_filtered[np.logical_and(\n",
    "        orders_filtered['group']=='A', # Selecciona datos en el grupo A\n",
    "        np.logical_not(orders_filtered['visitorId'].isin(abnormalUsers)))]['revenue'],\n",
    "    orders_filtered[np.logical_and(\n",
    "        orders_filtered['group']=='B', # Selecciona datos en el grupo B\n",
    "        np.logical_not(orders_filtered['visitorId'].isin(abnormalUsers)))]['revenue'])[1]))\n",
    "\n",
    "# Muestra la diferencia relativa en el ingreso medio entre los grupos B y A\n",
    "print('Diferencia relativa en el tamaño promedio de pedido del grupo B sobre el grupo A:')\n",
    "print(\"{0:.3f}\".format(\n",
    "    orders_filtered[np.logical_and(orders_filtered['group']=='B', # Selecciona datos en el grupo B\n",
    "                    np.logical_not(orders_filtered['visitorId'].isin(abnormalUsers)))]['revenue'].mean()/ # Calcula el ingreso medio para el grupo B\n",
    "    orders_filtered[np.logical_and(orders_filtered['group']=='A', # Selecciona datos en el grupo A\n",
    "                    np.logical_not(orders_filtered['visitorId'].isin(abnormalUsers)))]['revenue'].mean()-1)) # Calcula el ingreso medio para el grupo A"
   ]
  },
  {
   "cell_type": "markdown",
   "metadata": {},
   "source": [
    "El valor p ha disminuido ligeramente, pero sigue siendo mayor que 0.05, lo que indica que no hay evidencia estadística suficiente para afirmar una diferencia significativa en el tamaño promedio de pedido entre los grupos.\n",
    "\n",
    "Sin embargo, tras filtrar los valores atípicos, la diferencia en el tamaño promedio de compra del grupo B se redujo al 7%, comparado con el 27% obtenido previamente, lo que sugiere un impacto relevante de los datos extremos en el análisis inicial."
   ]
  },
  {
   "cell_type": "markdown",
   "metadata": {},
   "source": [
    "## **4. Resumen**  \n",
    "\n",
    "A continuación, se presentan los valores obtenidos **antes y después** de filtrar los valores atípicos:  \n",
    "\n",
    "### **Antes**  \n",
    "**Conversión:**  \n",
    "- **p-value:** 0.011 (**<0.05**, la diferencia entre las conversiones es estadísticamente significativa.)  \n",
    "- **Diferencia en la conversión B sobre A:** 16% (La conversión en el grupo B fue **un 16% mayor** que en el grupo A.)  \n",
    "\n",
    "**Tamaño promedio de compra:**  \n",
    "- **p-value:** 0.862 (**NO** hay evidencia estadística suficiente para afirmar que el tamaño promedio del pedido sea diferente entre A y B.)  \n",
    "- **Diferencia en tamaño promedio de pedido B sobre A:** 27% (Aunque el tamaño promedio en B parece ser **27.8% mayor**, la evidencia estadística **no respalda esta diferencia**.)  \n",
    "\n",
    "### **Después**  \n",
    "**Conversión:**  \n",
    "- **p-value:** 0.016 (**significativo**)  \n",
    "- **Diferencia en la conversión B sobre A:** 17%  \n",
    "\n",
    "**Tamaño promedio de compra:**  \n",
    "- **p-value:** 0.575 (**NO** hay evidencia estadística suficiente para afirmar que el tamaño promedio del pedido es diferente entre A y B.)  \n",
    "- **Diferencia en tamaño promedio de pedido B sobre A:** -7%  \n",
    "\n",
    "### **Análisis Final**  \n",
    "\n",
    "Antes del filtrado, el **grupo B mostró una conversión significativamente mayor** (+16% vs grupo A). Sin embargo, **no hubo evidencia estadística** de que el tamaño promedio del pedido fuera diferente entre los grupos.  \n",
    "\n",
    "Después de filtrar los valores atípicos, la **conversión del grupo B se mantuvo ligeramente mayor** (+17%), pero el **tamaño promedio de pedido disminuyó**, siendo **un 7% menor** que en el grupo A (**sin significancia estadística**).  \n",
    "\n",
    "### **Interpretación**  \n",
    "Esto implica que **el aumento en conversión del grupo B no está impulsado por pedidos más grandes**, sino por **una mayor cantidad de pedidos**. En otras palabras, **el grupo B genera más ventas, pero no necesariamente por pedidos de mayor tamaño**.  \n",
    "\n",
    "Por lo tanto, **el incremento en ingresos dependerá del volumen de conversiones**, no del tamaño de los pedidos.  "
   ]
  },
  {
   "cell_type": "markdown",
   "metadata": {},
   "source": [
    "## **5. Toma de decisión basada en los resultados**"
   ]
  },
  {
   "cell_type": "markdown",
   "metadata": {},
   "source": [
    "Tras analizar los resultados, se consideran las siguientes opciones:\n",
    "- Parar la prueba y considerar a uno de los grupos como líder.\n",
    "- Parar la prueba y concluir que no hay diferencia entre los grupos.\n",
    "- Continuar la prueba."
   ]
  },
  {
   "cell_type": "markdown",
   "metadata": {},
   "source": [
    "**Se decide parar la prueba y considerar al grupo B como el grupo ganador.**\n",
    "\n",
    "A pesar de haber aplicado un filtrado para eliminar valores atípicos, el grupo B mantuvo un aumento en la conversión, confirmando la tendencia observada en las visualizaciones. El comportamiento constante del grupo B, con una conversión mayor en comparación con el grupo A, valida la decisión de establecerlo como el grupo óptimo para futuros análisis y estrategias."
   ]
  }
 ],
 "metadata": {
  "ExecuteTimeLog": [
   {
    "duration": 3,
    "start_time": "2025-03-05T21:54:14.884Z"
   },
   {
    "duration": 2,
    "start_time": "2025-03-05T21:54:16.640Z"
   },
   {
    "duration": 2964,
    "start_time": "2025-03-05T22:47:07.122Z"
   },
   {
    "duration": 17,
    "start_time": "2025-03-05T22:47:10.089Z"
   },
   {
    "duration": 10,
    "start_time": "2025-03-05T22:48:50.414Z"
   },
   {
    "duration": 43,
    "start_time": "2025-03-05T22:48:55.760Z"
   },
   {
    "duration": 8,
    "start_time": "2025-03-05T22:48:56.927Z"
   },
   {
    "duration": 10,
    "start_time": "2025-03-05T22:49:07.803Z"
   },
   {
    "duration": 10,
    "start_time": "2025-03-05T22:49:09.217Z"
   },
   {
    "duration": 4,
    "start_time": "2025-03-05T22:50:38.075Z"
   },
   {
    "duration": 5,
    "start_time": "2025-03-05T22:52:29.799Z"
   },
   {
    "duration": 11,
    "start_time": "2025-03-05T22:52:33.425Z"
   },
   {
    "duration": 17,
    "start_time": "2025-03-05T22:53:23.059Z"
   },
   {
    "duration": 11,
    "start_time": "2025-03-05T22:53:33.183Z"
   },
   {
    "duration": 25,
    "start_time": "2025-03-05T22:53:36.838Z"
   },
   {
    "duration": 14,
    "start_time": "2025-03-05T22:54:15.108Z"
   },
   {
    "duration": 27,
    "start_time": "2025-03-05T22:54:19.643Z"
   },
   {
    "duration": 11,
    "start_time": "2025-03-05T22:54:29.668Z"
   },
   {
    "duration": 11,
    "start_time": "2025-03-05T22:54:33.009Z"
   },
   {
    "duration": 16,
    "start_time": "2025-03-05T22:55:41.543Z"
   },
   {
    "duration": 10,
    "start_time": "2025-03-05T22:56:28.136Z"
   },
   {
    "duration": 14,
    "start_time": "2025-03-05T22:56:31.503Z"
   },
   {
    "duration": 20,
    "start_time": "2025-03-05T23:15:34.258Z"
   },
   {
    "duration": 15,
    "start_time": "2025-03-05T23:16:07.722Z"
   },
   {
    "duration": 9,
    "start_time": "2025-03-05T23:16:12.587Z"
   },
   {
    "duration": 4,
    "start_time": "2025-03-05T23:17:14.800Z"
   },
   {
    "duration": 5,
    "start_time": "2025-03-05T23:18:12.484Z"
   },
   {
    "duration": 12,
    "start_time": "2025-03-05T23:26:01.424Z"
   },
   {
    "duration": 9,
    "start_time": "2025-03-05T23:27:29.566Z"
   },
   {
    "duration": 6,
    "start_time": "2025-03-05T23:31:32.598Z"
   },
   {
    "duration": 613,
    "start_time": "2025-03-05T23:43:04.316Z"
   },
   {
    "duration": 45,
    "start_time": "2025-03-05T23:43:33.286Z"
   },
   {
    "duration": 10,
    "start_time": "2025-03-05T23:44:02.195Z"
   },
   {
    "duration": 4,
    "start_time": "2025-03-05T23:44:08.563Z"
   },
   {
    "duration": 16,
    "start_time": "2025-03-05T23:44:08.569Z"
   },
   {
    "duration": 11,
    "start_time": "2025-03-05T23:44:08.587Z"
   },
   {
    "duration": 5,
    "start_time": "2025-03-05T23:44:08.601Z"
   },
   {
    "duration": 13,
    "start_time": "2025-03-05T23:44:08.607Z"
   },
   {
    "duration": 9,
    "start_time": "2025-03-05T23:44:08.621Z"
   },
   {
    "duration": 5,
    "start_time": "2025-03-05T23:44:08.642Z"
   },
   {
    "duration": 2,
    "start_time": "2025-03-05T23:44:08.649Z"
   },
   {
    "duration": 11,
    "start_time": "2025-03-05T23:44:08.653Z"
   },
   {
    "duration": 6,
    "start_time": "2025-03-05T23:44:08.667Z"
   },
   {
    "duration": 21,
    "start_time": "2025-03-05T23:44:08.675Z"
   },
   {
    "duration": 866,
    "start_time": "2025-03-05T23:44:28.740Z"
   },
   {
    "duration": 13,
    "start_time": "2025-03-05T23:44:29.608Z"
   },
   {
    "duration": 11,
    "start_time": "2025-03-05T23:44:29.623Z"
   },
   {
    "duration": 4,
    "start_time": "2025-03-05T23:44:29.643Z"
   },
   {
    "duration": 10,
    "start_time": "2025-03-05T23:44:29.649Z"
   },
   {
    "duration": 5,
    "start_time": "2025-03-05T23:44:29.661Z"
   },
   {
    "duration": 5,
    "start_time": "2025-03-05T23:44:29.668Z"
   },
   {
    "duration": 3,
    "start_time": "2025-03-05T23:44:29.674Z"
   },
   {
    "duration": 10,
    "start_time": "2025-03-05T23:44:29.678Z"
   },
   {
    "duration": 5,
    "start_time": "2025-03-05T23:44:29.689Z"
   },
   {
    "duration": 303,
    "start_time": "2025-03-05T23:44:29.696Z"
   },
   {
    "duration": 256,
    "start_time": "2025-03-05T23:44:41.402Z"
   },
   {
    "duration": 4,
    "start_time": "2025-03-05T23:46:06.904Z"
   },
   {
    "duration": 46,
    "start_time": "2025-03-05T23:46:29.065Z"
   },
   {
    "duration": 320,
    "start_time": "2025-03-05T23:46:37.027Z"
   },
   {
    "duration": 8,
    "start_time": "2025-03-05T23:47:20.435Z"
   },
   {
    "duration": 24,
    "start_time": "2025-03-05T23:49:25.498Z"
   },
   {
    "duration": 7,
    "start_time": "2025-03-05T23:49:36.829Z"
   },
   {
    "duration": 7,
    "start_time": "2025-03-05T23:54:06.385Z"
   },
   {
    "duration": 15,
    "start_time": "2025-03-05T23:57:15.487Z"
   },
   {
    "duration": 6,
    "start_time": "2025-03-05T23:57:27.692Z"
   },
   {
    "duration": 3,
    "start_time": "2025-03-06T00:20:33.704Z"
   },
   {
    "duration": 15,
    "start_time": "2025-03-06T00:20:33.709Z"
   },
   {
    "duration": 11,
    "start_time": "2025-03-06T00:20:33.725Z"
   },
   {
    "duration": 4,
    "start_time": "2025-03-06T00:20:33.738Z"
   },
   {
    "duration": 9,
    "start_time": "2025-03-06T00:20:33.745Z"
   },
   {
    "duration": 6,
    "start_time": "2025-03-06T00:20:33.756Z"
   },
   {
    "duration": 4,
    "start_time": "2025-03-06T00:20:33.765Z"
   },
   {
    "duration": 2,
    "start_time": "2025-03-06T00:20:33.770Z"
   },
   {
    "duration": 9,
    "start_time": "2025-03-06T00:20:33.774Z"
   },
   {
    "duration": 4,
    "start_time": "2025-03-06T00:20:33.785Z"
   },
   {
    "duration": 6,
    "start_time": "2025-03-06T00:20:33.792Z"
   },
   {
    "duration": 48,
    "start_time": "2025-03-06T00:20:33.799Z"
   },
   {
    "duration": 5,
    "start_time": "2025-03-06T00:20:33.849Z"
   },
   {
    "duration": 3,
    "start_time": "2025-03-06T00:20:36.636Z"
   },
   {
    "duration": 2,
    "start_time": "2025-03-06T00:27:41.981Z"
   },
   {
    "duration": 12,
    "start_time": "2025-03-06T00:27:41.985Z"
   },
   {
    "duration": 10,
    "start_time": "2025-03-06T00:27:41.999Z"
   },
   {
    "duration": 4,
    "start_time": "2025-03-06T00:27:42.011Z"
   },
   {
    "duration": 10,
    "start_time": "2025-03-06T00:27:42.017Z"
   },
   {
    "duration": 5,
    "start_time": "2025-03-06T00:27:42.028Z"
   },
   {
    "duration": 4,
    "start_time": "2025-03-06T00:27:42.035Z"
   },
   {
    "duration": 4,
    "start_time": "2025-03-06T00:27:42.040Z"
   },
   {
    "duration": 9,
    "start_time": "2025-03-06T00:27:42.045Z"
   },
   {
    "duration": 5,
    "start_time": "2025-03-06T00:27:42.055Z"
   },
   {
    "duration": 5,
    "start_time": "2025-03-06T00:27:42.063Z"
   },
   {
    "duration": 6,
    "start_time": "2025-03-06T00:27:42.070Z"
   },
   {
    "duration": 6,
    "start_time": "2025-03-06T00:27:42.078Z"
   },
   {
    "duration": 160,
    "start_time": "2025-03-06T21:28:00.318Z"
   },
   {
    "duration": 2786,
    "start_time": "2025-03-06T21:28:10.240Z"
   },
   {
    "duration": 22,
    "start_time": "2025-03-06T21:28:13.029Z"
   },
   {
    "duration": 14,
    "start_time": "2025-03-06T21:28:13.053Z"
   },
   {
    "duration": 5,
    "start_time": "2025-03-06T21:28:13.068Z"
   },
   {
    "duration": 11,
    "start_time": "2025-03-06T21:28:13.075Z"
   },
   {
    "duration": 26,
    "start_time": "2025-03-06T21:28:13.088Z"
   },
   {
    "duration": 6,
    "start_time": "2025-03-06T21:28:13.116Z"
   },
   {
    "duration": 4,
    "start_time": "2025-03-06T21:28:13.124Z"
   },
   {
    "duration": 9,
    "start_time": "2025-03-06T21:28:13.130Z"
   },
   {
    "duration": 4,
    "start_time": "2025-03-06T21:28:13.141Z"
   },
   {
    "duration": 7,
    "start_time": "2025-03-06T21:28:13.147Z"
   },
   {
    "duration": 6,
    "start_time": "2025-03-06T21:28:13.155Z"
   },
   {
    "duration": 50,
    "start_time": "2025-03-06T21:28:13.163Z"
   },
   {
    "duration": 5,
    "start_time": "2025-03-06T21:28:13.217Z"
   },
   {
    "duration": 12,
    "start_time": "2025-03-06T21:28:27.267Z"
   },
   {
    "duration": 594,
    "start_time": "2025-03-06T21:39:10.435Z"
   },
   {
    "duration": 165,
    "start_time": "2025-03-06T21:39:44.918Z"
   },
   {
    "duration": 137,
    "start_time": "2025-03-06T21:40:52.423Z"
   },
   {
    "duration": 138,
    "start_time": "2025-03-06T21:52:42.319Z"
   },
   {
    "duration": 42,
    "start_time": "2025-03-06T21:59:38.537Z"
   },
   {
    "duration": 72,
    "start_time": "2025-03-06T22:00:08.031Z"
   },
   {
    "duration": 88,
    "start_time": "2025-03-06T22:00:45.116Z"
   },
   {
    "duration": 86,
    "start_time": "2025-03-06T22:01:26.055Z"
   },
   {
    "duration": 6,
    "start_time": "2025-03-06T22:06:33.141Z"
   },
   {
    "duration": 11,
    "start_time": "2025-03-06T22:06:42.476Z"
   },
   {
    "duration": 144,
    "start_time": "2025-03-06T22:16:35.861Z"
   },
   {
    "duration": 130,
    "start_time": "2025-03-06T22:16:43.773Z"
   },
   {
    "duration": 114,
    "start_time": "2025-03-06T22:21:11.760Z"
   },
   {
    "duration": 144,
    "start_time": "2025-03-06T22:21:26.166Z"
   },
   {
    "duration": 17,
    "start_time": "2025-03-06T22:26:53.707Z"
   },
   {
    "duration": 23,
    "start_time": "2025-03-06T22:27:02.683Z"
   },
   {
    "duration": 231,
    "start_time": "2025-03-06T22:28:43.695Z"
   },
   {
    "duration": 226,
    "start_time": "2025-03-06T22:28:52.502Z"
   },
   {
    "duration": 136,
    "start_time": "2025-03-06T22:38:39.524Z"
   },
   {
    "duration": 845,
    "start_time": "2025-03-06T22:39:53.990Z"
   },
   {
    "duration": 128,
    "start_time": "2025-03-06T22:40:37.830Z"
   },
   {
    "duration": 121,
    "start_time": "2025-03-06T22:40:56.006Z"
   },
   {
    "duration": 120,
    "start_time": "2025-03-06T22:42:18.571Z"
   },
   {
    "duration": 121,
    "start_time": "2025-03-06T22:43:28.399Z"
   },
   {
    "duration": 140,
    "start_time": "2025-03-06T22:44:24.473Z"
   },
   {
    "duration": 172,
    "start_time": "2025-03-06T22:44:51.746Z"
   },
   {
    "duration": 117,
    "start_time": "2025-03-06T22:45:20.238Z"
   },
   {
    "duration": 140,
    "start_time": "2025-03-06T22:46:53.777Z"
   },
   {
    "duration": 107,
    "start_time": "2025-03-06T22:56:40.276Z"
   },
   {
    "duration": 222,
    "start_time": "2025-03-06T23:01:14.372Z"
   },
   {
    "duration": 4,
    "start_time": "2025-03-06T23:02:31.820Z"
   },
   {
    "duration": 4,
    "start_time": "2025-03-06T23:02:57.142Z"
   },
   {
    "duration": 106,
    "start_time": "2025-03-06T23:07:38.658Z"
   },
   {
    "duration": 3,
    "start_time": "2025-03-06T23:09:48.908Z"
   },
   {
    "duration": 4,
    "start_time": "2025-03-06T23:26:37.063Z"
   },
   {
    "duration": 873,
    "start_time": "2025-03-06T23:28:55.580Z"
   },
   {
    "duration": 15,
    "start_time": "2025-03-06T23:28:56.455Z"
   },
   {
    "duration": 12,
    "start_time": "2025-03-06T23:28:56.471Z"
   },
   {
    "duration": 4,
    "start_time": "2025-03-06T23:28:56.485Z"
   },
   {
    "duration": 24,
    "start_time": "2025-03-06T23:28:56.491Z"
   },
   {
    "duration": 7,
    "start_time": "2025-03-06T23:28:56.517Z"
   },
   {
    "duration": 5,
    "start_time": "2025-03-06T23:28:56.526Z"
   },
   {
    "duration": 3,
    "start_time": "2025-03-06T23:28:56.533Z"
   },
   {
    "duration": 4,
    "start_time": "2025-03-06T23:28:56.538Z"
   },
   {
    "duration": 4,
    "start_time": "2025-03-06T23:29:01.042Z"
   },
   {
    "duration": 5,
    "start_time": "2025-03-06T23:29:13.861Z"
   },
   {
    "duration": 269,
    "start_time": "2025-03-06T23:29:16.353Z"
   },
   {
    "duration": 4,
    "start_time": "2025-03-06T23:29:23.905Z"
   },
   {
    "duration": 6,
    "start_time": "2025-03-06T23:30:46.669Z"
   },
   {
    "duration": 5,
    "start_time": "2025-03-06T23:31:03.051Z"
   },
   {
    "duration": 2814,
    "start_time": "2025-03-07T04:35:29.515Z"
   },
   {
    "duration": 29,
    "start_time": "2025-03-07T04:35:32.332Z"
   },
   {
    "duration": 12,
    "start_time": "2025-03-07T04:35:32.364Z"
   },
   {
    "duration": 5,
    "start_time": "2025-03-07T04:35:32.380Z"
   },
   {
    "duration": 17,
    "start_time": "2025-03-07T04:35:32.388Z"
   },
   {
    "duration": 8,
    "start_time": "2025-03-07T04:35:32.407Z"
   },
   {
    "duration": 8,
    "start_time": "2025-03-07T04:35:32.417Z"
   },
   {
    "duration": 15,
    "start_time": "2025-03-07T04:35:32.426Z"
   },
   {
    "duration": 5,
    "start_time": "2025-03-07T04:35:32.443Z"
   },
   {
    "duration": 5,
    "start_time": "2025-03-07T04:35:32.451Z"
   },
   {
    "duration": 12,
    "start_time": "2025-03-07T04:35:32.458Z"
   },
   {
    "duration": 7,
    "start_time": "2025-03-07T04:35:32.505Z"
   },
   {
    "duration": 10,
    "start_time": "2025-03-07T04:35:32.514Z"
   },
   {
    "duration": 6,
    "start_time": "2025-03-07T04:35:32.528Z"
   },
   {
    "duration": 7,
    "start_time": "2025-03-07T04:35:32.535Z"
   },
   {
    "duration": 7,
    "start_time": "2025-03-07T04:35:32.544Z"
   },
   {
    "duration": 201,
    "start_time": "2025-03-07T04:35:32.553Z"
   },
   {
    "duration": 108,
    "start_time": "2025-03-07T04:35:32.756Z"
   },
   {
    "duration": 10,
    "start_time": "2025-03-07T04:35:32.866Z"
   },
   {
    "duration": 173,
    "start_time": "2025-03-07T04:35:32.877Z"
   },
   {
    "duration": 188,
    "start_time": "2025-03-07T04:35:33.053Z"
   },
   {
    "duration": 231,
    "start_time": "2025-03-07T04:35:33.243Z"
   },
   {
    "duration": 154,
    "start_time": "2025-03-07T04:35:33.476Z"
   },
   {
    "duration": 332,
    "start_time": "2025-03-07T04:35:33.632Z"
   },
   {
    "duration": 6,
    "start_time": "2025-03-07T04:35:33.966Z"
   },
   {
    "duration": 138,
    "start_time": "2025-03-07T04:35:33.975Z"
   },
   {
    "duration": 6,
    "start_time": "2025-03-07T04:35:34.115Z"
   },
   {
    "duration": 124,
    "start_time": "2025-03-07T04:58:12.501Z"
   },
   {
    "duration": 235,
    "start_time": "2025-03-07T04:58:14.041Z"
   },
   {
    "duration": 119,
    "start_time": "2025-03-07T04:58:32.616Z"
   },
   {
    "duration": 18,
    "start_time": "2025-03-07T04:58:33.513Z"
   },
   {
    "duration": 22,
    "start_time": "2025-03-07T04:58:55.003Z"
   },
   {
    "duration": 3,
    "start_time": "2025-03-07T04:59:39.492Z"
   },
   {
    "duration": 30,
    "start_time": "2025-03-07T04:59:47.124Z"
   },
   {
    "duration": 23,
    "start_time": "2025-03-07T05:00:22.994Z"
   },
   {
    "duration": 9,
    "start_time": "2025-03-07T05:00:27.721Z"
   },
   {
    "duration": 18,
    "start_time": "2025-03-07T05:01:41.876Z"
   },
   {
    "duration": 441,
    "start_time": "2025-03-07T05:07:37.244Z"
   },
   {
    "duration": 45,
    "start_time": "2025-03-07T05:07:50.361Z"
   },
   {
    "duration": 23,
    "start_time": "2025-03-07T05:08:17.113Z"
   },
   {
    "duration": 7,
    "start_time": "2025-03-07T05:08:27.867Z"
   },
   {
    "duration": 7,
    "start_time": "2025-03-07T05:08:36.980Z"
   },
   {
    "duration": 229,
    "start_time": "2025-03-07T21:24:08.947Z"
   },
   {
    "duration": 2842,
    "start_time": "2025-03-07T21:24:15.834Z"
   },
   {
    "duration": 27,
    "start_time": "2025-03-07T21:24:18.678Z"
   },
   {
    "duration": 14,
    "start_time": "2025-03-07T21:24:18.707Z"
   },
   {
    "duration": 4,
    "start_time": "2025-03-07T21:24:18.724Z"
   },
   {
    "duration": 12,
    "start_time": "2025-03-07T21:24:18.730Z"
   },
   {
    "duration": 8,
    "start_time": "2025-03-07T21:24:18.744Z"
   },
   {
    "duration": 22,
    "start_time": "2025-03-07T21:24:18.753Z"
   },
   {
    "duration": 5,
    "start_time": "2025-03-07T21:24:18.776Z"
   },
   {
    "duration": 5,
    "start_time": "2025-03-07T21:24:18.782Z"
   },
   {
    "duration": 4,
    "start_time": "2025-03-07T21:24:18.792Z"
   },
   {
    "duration": 15,
    "start_time": "2025-03-07T21:24:18.798Z"
   },
   {
    "duration": 5,
    "start_time": "2025-03-07T21:24:18.815Z"
   },
   {
    "duration": 6,
    "start_time": "2025-03-07T21:24:18.822Z"
   },
   {
    "duration": 41,
    "start_time": "2025-03-07T21:24:18.830Z"
   },
   {
    "duration": 10,
    "start_time": "2025-03-07T21:24:18.872Z"
   },
   {
    "duration": 8,
    "start_time": "2025-03-07T21:24:18.883Z"
   },
   {
    "duration": 178,
    "start_time": "2025-03-07T21:24:18.893Z"
   },
   {
    "duration": 111,
    "start_time": "2025-03-07T21:24:19.072Z"
   },
   {
    "duration": 10,
    "start_time": "2025-03-07T21:24:19.185Z"
   },
   {
    "duration": 182,
    "start_time": "2025-03-07T21:24:19.197Z"
   },
   {
    "duration": 140,
    "start_time": "2025-03-07T21:24:19.381Z"
   },
   {
    "duration": 225,
    "start_time": "2025-03-07T21:24:19.523Z"
   },
   {
    "duration": 191,
    "start_time": "2025-03-07T21:24:19.750Z"
   },
   {
    "duration": 262,
    "start_time": "2025-03-07T21:24:19.943Z"
   },
   {
    "duration": 8,
    "start_time": "2025-03-07T21:24:20.207Z"
   },
   {
    "duration": 190,
    "start_time": "2025-03-07T21:24:20.217Z"
   },
   {
    "duration": 6,
    "start_time": "2025-03-07T21:24:20.409Z"
   },
   {
    "duration": 113,
    "start_time": "2025-03-07T21:24:20.419Z"
   },
   {
    "duration": 20,
    "start_time": "2025-03-07T21:24:20.533Z"
   },
   {
    "duration": 20,
    "start_time": "2025-03-07T21:24:20.556Z"
   },
   {
    "duration": 7,
    "start_time": "2025-03-07T21:24:20.578Z"
   },
   {
    "duration": 9,
    "start_time": "2025-03-07T21:24:20.587Z"
   },
   {
    "duration": 21,
    "start_time": "2025-03-07T21:24:20.598Z"
   },
   {
    "duration": 7,
    "start_time": "2025-03-07T21:35:21.928Z"
   },
   {
    "duration": 5,
    "start_time": "2025-03-07T21:35:40.549Z"
   },
   {
    "duration": 12,
    "start_time": "2025-03-07T21:36:11.080Z"
   },
   {
    "duration": 103,
    "start_time": "2025-03-07T21:36:44.819Z"
   },
   {
    "duration": 260,
    "start_time": "2025-03-07T21:36:54.662Z"
   },
   {
    "duration": 135,
    "start_time": "2025-03-07T21:37:06.122Z"
   },
   {
    "duration": 166,
    "start_time": "2025-03-09T22:06:17.701Z"
   },
   {
    "duration": 2651,
    "start_time": "2025-03-09T22:06:24.973Z"
   },
   {
    "duration": 17,
    "start_time": "2025-03-09T22:06:27.627Z"
   },
   {
    "duration": 11,
    "start_time": "2025-03-09T22:06:27.646Z"
   },
   {
    "duration": 4,
    "start_time": "2025-03-09T22:06:27.659Z"
   },
   {
    "duration": 11,
    "start_time": "2025-03-09T22:06:27.665Z"
   },
   {
    "duration": 6,
    "start_time": "2025-03-09T22:06:27.678Z"
   },
   {
    "duration": 6,
    "start_time": "2025-03-09T22:06:27.685Z"
   },
   {
    "duration": 34,
    "start_time": "2025-03-09T22:06:27.692Z"
   },
   {
    "duration": 5,
    "start_time": "2025-03-09T22:06:27.727Z"
   },
   {
    "duration": 4,
    "start_time": "2025-03-09T22:06:27.735Z"
   },
   {
    "duration": 10,
    "start_time": "2025-03-09T22:06:27.740Z"
   },
   {
    "duration": 4,
    "start_time": "2025-03-09T22:06:27.752Z"
   },
   {
    "duration": 6,
    "start_time": "2025-03-09T22:06:27.758Z"
   },
   {
    "duration": 6,
    "start_time": "2025-03-09T22:06:27.766Z"
   },
   {
    "duration": 6,
    "start_time": "2025-03-09T22:06:27.775Z"
   },
   {
    "duration": 9,
    "start_time": "2025-03-09T22:06:27.824Z"
   },
   {
    "duration": 161,
    "start_time": "2025-03-09T22:06:27.835Z"
   },
   {
    "duration": 99,
    "start_time": "2025-03-09T22:06:27.998Z"
   },
   {
    "duration": 9,
    "start_time": "2025-03-09T22:06:28.099Z"
   },
   {
    "duration": 169,
    "start_time": "2025-03-09T22:06:28.109Z"
   },
   {
    "duration": 144,
    "start_time": "2025-03-09T22:06:28.280Z"
   },
   {
    "duration": 236,
    "start_time": "2025-03-09T22:06:28.425Z"
   },
   {
    "duration": 139,
    "start_time": "2025-03-09T22:06:28.662Z"
   },
   {
    "duration": 289,
    "start_time": "2025-03-09T22:06:28.803Z"
   },
   {
    "duration": 5,
    "start_time": "2025-03-09T22:06:29.093Z"
   },
   {
    "duration": 106,
    "start_time": "2025-03-09T22:06:29.100Z"
   },
   {
    "duration": 4,
    "start_time": "2025-03-09T22:06:29.208Z"
   },
   {
    "duration": 124,
    "start_time": "2025-03-09T22:06:29.225Z"
   },
   {
    "duration": 19,
    "start_time": "2025-03-09T22:06:29.350Z"
   },
   {
    "duration": 7,
    "start_time": "2025-03-09T22:06:29.371Z"
   },
   {
    "duration": 7,
    "start_time": "2025-03-09T22:06:29.379Z"
   },
   {
    "duration": 7,
    "start_time": "2025-03-09T22:06:29.387Z"
   },
   {
    "duration": 42,
    "start_time": "2025-03-09T22:06:29.395Z"
   },
   {
    "duration": 11,
    "start_time": "2025-03-09T22:06:29.438Z"
   },
   {
    "duration": 231,
    "start_time": "2025-03-09T22:06:58.066Z"
   },
   {
    "duration": 3,
    "start_time": "2025-03-09T22:07:20.029Z"
   },
   {
    "duration": 91,
    "start_time": "2025-03-09T22:07:33.358Z"
   },
   {
    "duration": 5,
    "start_time": "2025-03-09T22:08:22.469Z"
   },
   {
    "duration": 6,
    "start_time": "2025-03-09T22:08:57.237Z"
   },
   {
    "duration": 5,
    "start_time": "2025-03-09T22:09:22.393Z"
   },
   {
    "duration": 7,
    "start_time": "2025-03-09T22:15:31.488Z"
   },
   {
    "duration": 8,
    "start_time": "2025-03-09T22:15:54.427Z"
   },
   {
    "duration": 176,
    "start_time": "2025-03-09T22:49:16.311Z"
   },
   {
    "duration": 168,
    "start_time": "2025-03-09T22:49:33.736Z"
   },
   {
    "duration": 157,
    "start_time": "2025-03-09T22:50:43.453Z"
   },
   {
    "duration": 186,
    "start_time": "2025-03-09T22:50:54.058Z"
   },
   {
    "duration": 163,
    "start_time": "2025-03-09T22:51:09.095Z"
   },
   {
    "duration": 245,
    "start_time": "2025-03-09T22:51:25.439Z"
   },
   {
    "duration": 176,
    "start_time": "2025-03-09T22:51:31.690Z"
   },
   {
    "duration": 177,
    "start_time": "2025-03-09T22:51:38.211Z"
   },
   {
    "duration": 163,
    "start_time": "2025-03-09T22:56:45.153Z"
   },
   {
    "duration": 174,
    "start_time": "2025-03-09T22:57:02.224Z"
   },
   {
    "duration": 159,
    "start_time": "2025-03-09T23:14:00.552Z"
   },
   {
    "duration": 139,
    "start_time": "2025-03-09T23:14:13.225Z"
   },
   {
    "duration": 156,
    "start_time": "2025-03-09T23:17:39.670Z"
   },
   {
    "duration": 227,
    "start_time": "2025-03-09T23:25:03.700Z"
   },
   {
    "duration": 230,
    "start_time": "2025-03-09T23:25:11.401Z"
   },
   {
    "duration": 251,
    "start_time": "2025-03-09T23:25:19.531Z"
   },
   {
    "duration": 251,
    "start_time": "2025-03-09T23:25:45.949Z"
   },
   {
    "duration": 234,
    "start_time": "2025-03-09T23:28:12.012Z"
   },
   {
    "duration": 221,
    "start_time": "2025-03-09T23:28:41.189Z"
   },
   {
    "duration": 204,
    "start_time": "2025-03-09T23:38:21.288Z"
   },
   {
    "duration": 156,
    "start_time": "2025-03-09T23:39:55.009Z"
   },
   {
    "duration": 226,
    "start_time": "2025-03-09T23:49:30.452Z"
   },
   {
    "duration": 114,
    "start_time": "2025-03-10T00:09:00.041Z"
   },
   {
    "duration": 138,
    "start_time": "2025-03-10T00:09:50.298Z"
   },
   {
    "duration": 20,
    "start_time": "2025-03-10T00:37:13.117Z"
   },
   {
    "duration": 25,
    "start_time": "2025-03-10T00:38:08.629Z"
   },
   {
    "duration": 19,
    "start_time": "2025-03-10T00:38:19.673Z"
   },
   {
    "duration": 19,
    "start_time": "2025-03-10T00:38:29.043Z"
   },
   {
    "duration": 9,
    "start_time": "2025-03-10T00:39:33.138Z"
   },
   {
    "duration": 16,
    "start_time": "2025-03-10T00:59:12.522Z"
   },
   {
    "duration": 9,
    "start_time": "2025-03-10T01:00:46.083Z"
   },
   {
    "duration": 16,
    "start_time": "2025-03-10T01:02:43.882Z"
   },
   {
    "duration": 14,
    "start_time": "2025-03-10T01:03:19.943Z"
   },
   {
    "duration": 11,
    "start_time": "2025-03-10T01:03:24.589Z"
   },
   {
    "duration": 19,
    "start_time": "2025-03-10T01:09:27.400Z"
   },
   {
    "duration": 16,
    "start_time": "2025-03-10T01:10:40.492Z"
   },
   {
    "duration": 328,
    "start_time": "2025-03-10T01:16:21.115Z"
   }
  ],
  "kernelspec": {
   "display_name": "entorno-virtual",
   "language": "python",
   "name": "python3"
  },
  "language_info": {
   "codemirror_mode": {
    "name": "ipython",
    "version": 3
   },
   "file_extension": ".py",
   "mimetype": "text/x-python",
   "name": "python",
   "nbconvert_exporter": "python",
   "pygments_lexer": "ipython3",
   "version": "3.13.0"
  },
  "toc": {
   "base_numbering": 1,
   "nav_menu": {
    "height": "70.9848px",
    "width": "262.992px"
   },
   "number_sections": true,
   "sideBar": true,
   "skip_h1_title": true,
   "title_cell": "Table of Contents",
   "title_sidebar": "Contents",
   "toc_cell": false,
   "toc_position": {
    "height": "calc(100% - 180px)",
    "left": "10px",
    "top": "150px",
    "width": "165px"
   },
   "toc_section_display": true,
   "toc_window_display": false
  },
  "widgets": {
   "application/vnd.jupyter.widget-state+json": {
    "state": {},
    "version_major": 2,
    "version_minor": 0
   }
  }
 },
 "nbformat": 4,
 "nbformat_minor": 2
}
